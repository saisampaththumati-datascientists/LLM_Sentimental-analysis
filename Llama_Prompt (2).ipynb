{
  "nbformat": 4,
  "nbformat_minor": 0,
  "metadata": {
    "colab": {
      "provenance": [],
      "machine_shape": "hm",
      "toc_visible": true,
      "gpuType": "V28",
      "name": "Llama_Prompt.ipynb"
    },
    "kernelspec": {
      "name": "python3",
      "display_name": "Python 3"
    },
    "language_info": {
      "name": "python"
    },
    "widgets": {
      "application/vnd.jupyter.widget-state+json": {
        "71bb3fdf80284b57a5efb883a87cab60": {
          "model_module": "@jupyter-widgets/controls",
          "model_name": "HBoxModel",
          "model_module_version": "1.5.0",
          "state": {
            "_dom_classes": [],
            "_model_module": "@jupyter-widgets/controls",
            "_model_module_version": "1.5.0",
            "_model_name": "HBoxModel",
            "_view_count": null,
            "_view_module": "@jupyter-widgets/controls",
            "_view_module_version": "1.5.0",
            "_view_name": "HBoxView",
            "box_style": "",
            "children": [
              "IPY_MODEL_02a674c8086d46caa728180faf49ef46",
              "IPY_MODEL_986a55825b454cbb98adbd4432e5a8f7",
              "IPY_MODEL_e0eb5ec2cd624193abd6e0f400b7b211"
            ],
            "layout": "IPY_MODEL_ae283ab84193487c839e725431063f68"
          }
        },
        "02a674c8086d46caa728180faf49ef46": {
          "model_module": "@jupyter-widgets/controls",
          "model_name": "HTMLModel",
          "model_module_version": "1.5.0",
          "state": {
            "_dom_classes": [],
            "_model_module": "@jupyter-widgets/controls",
            "_model_module_version": "1.5.0",
            "_model_name": "HTMLModel",
            "_view_count": null,
            "_view_module": "@jupyter-widgets/controls",
            "_view_module_version": "1.5.0",
            "_view_name": "HTMLView",
            "description": "",
            "description_tooltip": null,
            "layout": "IPY_MODEL_df3a9bbfeb844830a06f16e5f6b0a175",
            "placeholder": "​",
            "style": "IPY_MODEL_297f5a0c72d34b63bb6d1a1abc36b8ce",
            "value": "llama-2-7b-chat.Q8_0.gguf: 100%"
          }
        },
        "986a55825b454cbb98adbd4432e5a8f7": {
          "model_module": "@jupyter-widgets/controls",
          "model_name": "FloatProgressModel",
          "model_module_version": "1.5.0",
          "state": {
            "_dom_classes": [],
            "_model_module": "@jupyter-widgets/controls",
            "_model_module_version": "1.5.0",
            "_model_name": "FloatProgressModel",
            "_view_count": null,
            "_view_module": "@jupyter-widgets/controls",
            "_view_module_version": "1.5.0",
            "_view_name": "ProgressView",
            "bar_style": "success",
            "description": "",
            "description_tooltip": null,
            "layout": "IPY_MODEL_418c36c3e475428798d77f4a1dda76f4",
            "max": 7161089728,
            "min": 0,
            "orientation": "horizontal",
            "style": "IPY_MODEL_e5f68de9c7864a01ae2d728e02f204e0",
            "value": 7161089728
          }
        },
        "e0eb5ec2cd624193abd6e0f400b7b211": {
          "model_module": "@jupyter-widgets/controls",
          "model_name": "HTMLModel",
          "model_module_version": "1.5.0",
          "state": {
            "_dom_classes": [],
            "_model_module": "@jupyter-widgets/controls",
            "_model_module_version": "1.5.0",
            "_model_name": "HTMLModel",
            "_view_count": null,
            "_view_module": "@jupyter-widgets/controls",
            "_view_module_version": "1.5.0",
            "_view_name": "HTMLView",
            "description": "",
            "description_tooltip": null,
            "layout": "IPY_MODEL_8badd570f9474f3a8818e8023dba83e8",
            "placeholder": "​",
            "style": "IPY_MODEL_5bed88c0990142df92ac2d4d212c98d7",
            "value": " 7.16G/7.16G [00:45&lt;00:00, 121MB/s]"
          }
        },
        "ae283ab84193487c839e725431063f68": {
          "model_module": "@jupyter-widgets/base",
          "model_name": "LayoutModel",
          "model_module_version": "1.2.0",
          "state": {
            "_model_module": "@jupyter-widgets/base",
            "_model_module_version": "1.2.0",
            "_model_name": "LayoutModel",
            "_view_count": null,
            "_view_module": "@jupyter-widgets/base",
            "_view_module_version": "1.2.0",
            "_view_name": "LayoutView",
            "align_content": null,
            "align_items": null,
            "align_self": null,
            "border": null,
            "bottom": null,
            "display": null,
            "flex": null,
            "flex_flow": null,
            "grid_area": null,
            "grid_auto_columns": null,
            "grid_auto_flow": null,
            "grid_auto_rows": null,
            "grid_column": null,
            "grid_gap": null,
            "grid_row": null,
            "grid_template_areas": null,
            "grid_template_columns": null,
            "grid_template_rows": null,
            "height": null,
            "justify_content": null,
            "justify_items": null,
            "left": null,
            "margin": null,
            "max_height": null,
            "max_width": null,
            "min_height": null,
            "min_width": null,
            "object_fit": null,
            "object_position": null,
            "order": null,
            "overflow": null,
            "overflow_x": null,
            "overflow_y": null,
            "padding": null,
            "right": null,
            "top": null,
            "visibility": null,
            "width": null
          }
        },
        "df3a9bbfeb844830a06f16e5f6b0a175": {
          "model_module": "@jupyter-widgets/base",
          "model_name": "LayoutModel",
          "model_module_version": "1.2.0",
          "state": {
            "_model_module": "@jupyter-widgets/base",
            "_model_module_version": "1.2.0",
            "_model_name": "LayoutModel",
            "_view_count": null,
            "_view_module": "@jupyter-widgets/base",
            "_view_module_version": "1.2.0",
            "_view_name": "LayoutView",
            "align_content": null,
            "align_items": null,
            "align_self": null,
            "border": null,
            "bottom": null,
            "display": null,
            "flex": null,
            "flex_flow": null,
            "grid_area": null,
            "grid_auto_columns": null,
            "grid_auto_flow": null,
            "grid_auto_rows": null,
            "grid_column": null,
            "grid_gap": null,
            "grid_row": null,
            "grid_template_areas": null,
            "grid_template_columns": null,
            "grid_template_rows": null,
            "height": null,
            "justify_content": null,
            "justify_items": null,
            "left": null,
            "margin": null,
            "max_height": null,
            "max_width": null,
            "min_height": null,
            "min_width": null,
            "object_fit": null,
            "object_position": null,
            "order": null,
            "overflow": null,
            "overflow_x": null,
            "overflow_y": null,
            "padding": null,
            "right": null,
            "top": null,
            "visibility": null,
            "width": null
          }
        },
        "297f5a0c72d34b63bb6d1a1abc36b8ce": {
          "model_module": "@jupyter-widgets/controls",
          "model_name": "DescriptionStyleModel",
          "model_module_version": "1.5.0",
          "state": {
            "_model_module": "@jupyter-widgets/controls",
            "_model_module_version": "1.5.0",
            "_model_name": "DescriptionStyleModel",
            "_view_count": null,
            "_view_module": "@jupyter-widgets/base",
            "_view_module_version": "1.2.0",
            "_view_name": "StyleView",
            "description_width": ""
          }
        },
        "418c36c3e475428798d77f4a1dda76f4": {
          "model_module": "@jupyter-widgets/base",
          "model_name": "LayoutModel",
          "model_module_version": "1.2.0",
          "state": {
            "_model_module": "@jupyter-widgets/base",
            "_model_module_version": "1.2.0",
            "_model_name": "LayoutModel",
            "_view_count": null,
            "_view_module": "@jupyter-widgets/base",
            "_view_module_version": "1.2.0",
            "_view_name": "LayoutView",
            "align_content": null,
            "align_items": null,
            "align_self": null,
            "border": null,
            "bottom": null,
            "display": null,
            "flex": null,
            "flex_flow": null,
            "grid_area": null,
            "grid_auto_columns": null,
            "grid_auto_flow": null,
            "grid_auto_rows": null,
            "grid_column": null,
            "grid_gap": null,
            "grid_row": null,
            "grid_template_areas": null,
            "grid_template_columns": null,
            "grid_template_rows": null,
            "height": null,
            "justify_content": null,
            "justify_items": null,
            "left": null,
            "margin": null,
            "max_height": null,
            "max_width": null,
            "min_height": null,
            "min_width": null,
            "object_fit": null,
            "object_position": null,
            "order": null,
            "overflow": null,
            "overflow_x": null,
            "overflow_y": null,
            "padding": null,
            "right": null,
            "top": null,
            "visibility": null,
            "width": null
          }
        },
        "e5f68de9c7864a01ae2d728e02f204e0": {
          "model_module": "@jupyter-widgets/controls",
          "model_name": "ProgressStyleModel",
          "model_module_version": "1.5.0",
          "state": {
            "_model_module": "@jupyter-widgets/controls",
            "_model_module_version": "1.5.0",
            "_model_name": "ProgressStyleModel",
            "_view_count": null,
            "_view_module": "@jupyter-widgets/base",
            "_view_module_version": "1.2.0",
            "_view_name": "StyleView",
            "bar_color": null,
            "description_width": ""
          }
        },
        "8badd570f9474f3a8818e8023dba83e8": {
          "model_module": "@jupyter-widgets/base",
          "model_name": "LayoutModel",
          "model_module_version": "1.2.0",
          "state": {
            "_model_module": "@jupyter-widgets/base",
            "_model_module_version": "1.2.0",
            "_model_name": "LayoutModel",
            "_view_count": null,
            "_view_module": "@jupyter-widgets/base",
            "_view_module_version": "1.2.0",
            "_view_name": "LayoutView",
            "align_content": null,
            "align_items": null,
            "align_self": null,
            "border": null,
            "bottom": null,
            "display": null,
            "flex": null,
            "flex_flow": null,
            "grid_area": null,
            "grid_auto_columns": null,
            "grid_auto_flow": null,
            "grid_auto_rows": null,
            "grid_column": null,
            "grid_gap": null,
            "grid_row": null,
            "grid_template_areas": null,
            "grid_template_columns": null,
            "grid_template_rows": null,
            "height": null,
            "justify_content": null,
            "justify_items": null,
            "left": null,
            "margin": null,
            "max_height": null,
            "max_width": null,
            "min_height": null,
            "min_width": null,
            "object_fit": null,
            "object_position": null,
            "order": null,
            "overflow": null,
            "overflow_x": null,
            "overflow_y": null,
            "padding": null,
            "right": null,
            "top": null,
            "visibility": null,
            "width": null
          }
        },
        "5bed88c0990142df92ac2d4d212c98d7": {
          "model_module": "@jupyter-widgets/controls",
          "model_name": "DescriptionStyleModel",
          "model_module_version": "1.5.0",
          "state": {
            "_model_module": "@jupyter-widgets/controls",
            "_model_module_version": "1.5.0",
            "_model_name": "DescriptionStyleModel",
            "_view_count": null,
            "_view_module": "@jupyter-widgets/base",
            "_view_module_version": "1.2.0",
            "_view_name": "StyleView",
            "description_width": ""
          }
        }
      }
    },
    "accelerator": "TPU"
  },
  "cells": [
    {
      "cell_type": "markdown",
      "source": [
        "## LLama Model practicing the Promt enginnering\n",
        "-  LLaMA2\n",
        "- Chatbots: Create intelligent chatbots that can handle complex conversations."
      ],
      "metadata": {
        "id": "iOh5ADNaqRcr"
      }
    },
    {
      "cell_type": "code",
      "execution_count": 3,
      "metadata": {
        "colab": {
          "base_uri": "https://localhost:8080/"
        },
        "id": "npDuUCNkpxBM",
        "outputId": "64c9371e-935a-4738-96eb-8944cfc44b4a",
        "executionInfo": {
          "status": "ok",
          "timestamp": 1721232035308,
          "user_tz": 300,
          "elapsed": 138268,
          "user": {
            "displayName": "",
            "userId": ""
          }
        }
      },
      "outputs": [
        {
          "output_type": "stream",
          "name": "stdout",
          "text": [
            "Collecting llama-cpp-python\n",
            "  Downloading llama_cpp_python-0.2.82.tar.gz (50.7 MB)\n",
            "\u001b[2K     \u001b[90m━━━━━━━━━━━━━━━━━━━━━━━━━━━━━━━━━━━━━━━━\u001b[0m \u001b[32m50.7/50.7 MB\u001b[0m \u001b[31m19.1 MB/s\u001b[0m eta \u001b[36m0:00:00\u001b[0m\n",
            "\u001b[?25h  Installing build dependencies ... \u001b[?25l\u001b[?25hdone\n",
            "  Getting requirements to build wheel ... \u001b[?25l\u001b[?25hdone\n",
            "  Installing backend dependencies ... \u001b[?25l\u001b[?25hdone\n",
            "  Preparing metadata (pyproject.toml) ... \u001b[?25l\u001b[?25hdone\n",
            "Requirement already satisfied: typing-extensions>=4.5.0 in /usr/local/lib/python3.10/dist-packages (from llama-cpp-python) (4.12.2)\n",
            "Requirement already satisfied: numpy>=1.20.0 in /usr/local/lib/python3.10/dist-packages (from llama-cpp-python) (1.25.2)\n",
            "Collecting diskcache>=5.6.1 (from llama-cpp-python)\n",
            "  Downloading diskcache-5.6.3-py3-none-any.whl (45 kB)\n",
            "\u001b[2K     \u001b[90m━━━━━━━━━━━━━━━━━━━━━━━━━━━━━━━━━━━━━━━━\u001b[0m \u001b[32m45.5/45.5 kB\u001b[0m \u001b[31m6.8 MB/s\u001b[0m eta \u001b[36m0:00:00\u001b[0m\n",
            "\u001b[?25hRequirement already satisfied: jinja2>=2.11.3 in /usr/local/lib/python3.10/dist-packages (from llama-cpp-python) (3.1.4)\n",
            "Requirement already satisfied: MarkupSafe>=2.0 in /usr/local/lib/python3.10/dist-packages (from jinja2>=2.11.3->llama-cpp-python) (2.1.5)\n",
            "Building wheels for collected packages: llama-cpp-python\n",
            "  Building wheel for llama-cpp-python (pyproject.toml) ... \u001b[?25l\u001b[?25hdone\n",
            "  Created wheel for llama-cpp-python: filename=llama_cpp_python-0.2.82-cp310-cp310-linux_x86_64.whl size=2815281 sha256=0434ad47ecb6dd20655dd0bd6a526f0bf46f1e3cc76fcc4bb4114e52ab61e94c\n",
            "  Stored in directory: /root/.cache/pip/wheels/5f/da/5a/272c969ba31c678e6bee2543f3be4dfa67d0feb36ed6f94c01\n",
            "Successfully built llama-cpp-python\n",
            "Installing collected packages: diskcache, llama-cpp-python\n",
            "Successfully installed diskcache-5.6.3 llama-cpp-python-0.2.82\n"
          ]
        }
      ],
      "source": [
        "pip install llama-cpp-python"
      ]
    },
    {
      "cell_type": "markdown",
      "source": [
        "## Install the llama Cpp Python model in the system\n",
        "- Load a LLAMA model from the Hugging Face Model Hub using transformers and integrate it with llama-cpp-python."
      ],
      "metadata": {
        "id": "Rc3Zp-bxqyEP"
      }
    },
    {
      "cell_type": "code",
      "source": [
        "pip install huggingface_hub"
      ],
      "metadata": {
        "colab": {
          "base_uri": "https://localhost:8080/"
        },
        "id": "G-zx658BrI75",
        "outputId": "1fb7231c-5822-4ee3-8ae8-c34b82557bba",
        "executionInfo": {
          "status": "ok",
          "timestamp": 1721231884565,
          "user_tz": 300,
          "elapsed": 17944,
          "user": {
            "displayName": "",
            "userId": ""
          }
        }
      },
      "execution_count": 1,
      "outputs": [
        {
          "output_type": "stream",
          "name": "stdout",
          "text": [
            "Requirement already satisfied: huggingface_hub in /usr/local/lib/python3.10/dist-packages (0.23.4)\n",
            "Requirement already satisfied: filelock in /usr/local/lib/python3.10/dist-packages (from huggingface_hub) (3.15.4)\n",
            "Requirement already satisfied: fsspec>=2023.5.0 in /usr/local/lib/python3.10/dist-packages (from huggingface_hub) (2023.6.0)\n",
            "Requirement already satisfied: packaging>=20.9 in /usr/local/lib/python3.10/dist-packages (from huggingface_hub) (24.1)\n",
            "Requirement already satisfied: pyyaml>=5.1 in /usr/local/lib/python3.10/dist-packages (from huggingface_hub) (6.0.1)\n",
            "Requirement already satisfied: requests in /usr/local/lib/python3.10/dist-packages (from huggingface_hub) (2.31.0)\n",
            "Requirement already satisfied: tqdm>=4.42.1 in /usr/local/lib/python3.10/dist-packages (from huggingface_hub) (4.66.4)\n",
            "Requirement already satisfied: typing-extensions>=3.7.4.3 in /usr/local/lib/python3.10/dist-packages (from huggingface_hub) (4.12.2)\n",
            "Requirement already satisfied: charset-normalizer<4,>=2 in /usr/local/lib/python3.10/dist-packages (from requests->huggingface_hub) (3.3.2)\n",
            "Requirement already satisfied: idna<4,>=2.5 in /usr/local/lib/python3.10/dist-packages (from requests->huggingface_hub) (3.7)\n",
            "Requirement already satisfied: urllib3<3,>=1.21.1 in /usr/local/lib/python3.10/dist-packages (from requests->huggingface_hub) (2.0.7)\n",
            "Requirement already satisfied: certifi>=2017.4.17 in /usr/local/lib/python3.10/dist-packages (from requests->huggingface_hub) (2024.6.2)\n"
          ]
        }
      ]
    },
    {
      "cell_type": "code",
      "source": [
        "from huggingface_hub import hf_hub_download\n",
        "from llama_cpp import Llama"
      ],
      "metadata": {
        "id": "nloO6nasr8aC",
        "executionInfo": {
          "status": "ok",
          "timestamp": 1721232035808,
          "user_tz": 300,
          "elapsed": 502,
          "user": {
            "displayName": "",
            "userId": ""
          }
        }
      },
      "execution_count": 4,
      "outputs": []
    },
    {
      "cell_type": "markdown",
      "source": [
        "## Llama\n",
        "- what are the steps ?\n",
        "- Take The Model_name_path  of the model\n",
        "- Take base_model\n",
        "- Pass the parameter in the hf_hub_download\n"
      ],
      "metadata": {
        "id": "Q7pWEnhFsHZi"
      }
    },
    {
      "cell_type": "code",
      "source": [
        "Model_name_path =\"TheBloke/Llama-2-7B-Chat-GGUF\"\n",
        "base_model=\"llama-2-7b-chat.Q8_0.gguf\""
      ],
      "metadata": {
        "id": "jn64LSQ4sMbk",
        "executionInfo": {
          "status": "ok",
          "timestamp": 1721232035808,
          "user_tz": 300,
          "elapsed": 2,
          "user": {
            "displayName": "",
            "userId": ""
          }
        }
      },
      "execution_count": 5,
      "outputs": []
    },
    {
      "cell_type": "code",
      "source": [
        "# use the hf_hub_download  to download the modell\n",
        "model_path= hf_hub_download(repo_id=Model_name_path,filename=base_model)"
      ],
      "metadata": {
        "colab": {
          "base_uri": "https://localhost:8080/",
          "height": 176,
          "referenced_widgets": [
            "71bb3fdf80284b57a5efb883a87cab60",
            "02a674c8086d46caa728180faf49ef46",
            "986a55825b454cbb98adbd4432e5a8f7",
            "e0eb5ec2cd624193abd6e0f400b7b211",
            "ae283ab84193487c839e725431063f68",
            "df3a9bbfeb844830a06f16e5f6b0a175",
            "297f5a0c72d34b63bb6d1a1abc36b8ce",
            "418c36c3e475428798d77f4a1dda76f4",
            "e5f68de9c7864a01ae2d728e02f204e0",
            "8badd570f9474f3a8818e8023dba83e8",
            "5bed88c0990142df92ac2d4d212c98d7"
          ]
        },
        "id": "9MiT3Bb3tn_B",
        "outputId": "bee5cd64-f126-4039-857e-f47b383c0eb3",
        "executionInfo": {
          "status": "ok",
          "timestamp": 1721232082744,
          "user_tz": 300,
          "elapsed": 46937,
          "user": {
            "displayName": "",
            "userId": ""
          }
        }
      },
      "execution_count": 6,
      "outputs": [
        {
          "output_type": "stream",
          "name": "stderr",
          "text": [
            "/usr/local/lib/python3.10/dist-packages/huggingface_hub/utils/_token.py:89: UserWarning: \n",
            "The secret `HF_TOKEN` does not exist in your Colab secrets.\n",
            "To authenticate with the Hugging Face Hub, create a token in your settings tab (https://huggingface.co/settings/tokens), set it as secret in your Google Colab and restart your session.\n",
            "You will be able to reuse this secret in all of your notebooks.\n",
            "Please note that authentication is recommended but still optional to access public models or datasets.\n",
            "  warnings.warn(\n"
          ]
        },
        {
          "output_type": "display_data",
          "data": {
            "text/plain": [
              "llama-2-7b-chat.Q8_0.gguf:   0%|          | 0.00/7.16G [00:00<?, ?B/s]"
            ],
            "application/vnd.jupyter.widget-view+json": {
              "version_major": 2,
              "version_minor": 0,
              "model_id": "71bb3fdf80284b57a5efb883a87cab60"
            }
          },
          "metadata": {}
        }
      ]
    },
    {
      "cell_type": "code",
      "source": [
        "!nvidia-smi"
      ],
      "metadata": {
        "colab": {
          "base_uri": "https://localhost:8080/"
        },
        "id": "0nC3xu5cuCsG",
        "outputId": "3c561c2e-cf8b-4bfe-88bd-6ba4effc7f5f",
        "executionInfo": {
          "status": "ok",
          "timestamp": 1721232082877,
          "user_tz": 300,
          "elapsed": 136,
          "user": {
            "displayName": "",
            "userId": ""
          }
        }
      },
      "execution_count": 7,
      "outputs": [
        {
          "output_type": "stream",
          "name": "stdout",
          "text": [
            "/bin/bash: line 1: nvidia-smi: command not found\n"
          ]
        }
      ]
    },
    {
      "cell_type": "code",
      "source": [
        "lccp_llm=Llama(model_path=model_path,\n",
        "               n_batch=512,\n",
        "               n_gpu_layers=32\n",
        "               ,n_ctx=4096,\n",
        "               n_threads=2)"
      ],
      "metadata": {
        "colab": {
          "base_uri": "https://localhost:8080/"
        },
        "id": "fA7jXc_durPD",
        "outputId": "11e7eea8-1d04-466f-cf6f-bf65ef11af71",
        "executionInfo": {
          "status": "ok",
          "timestamp": 1721232085905,
          "user_tz": 300,
          "elapsed": 3030,
          "user": {
            "displayName": "",
            "userId": ""
          }
        }
      },
      "execution_count": 8,
      "outputs": [
        {
          "output_type": "stream",
          "name": "stderr",
          "text": [
            "llama_model_loader: loaded meta data with 19 key-value pairs and 291 tensors from /root/.cache/huggingface/hub/models--TheBloke--Llama-2-7B-Chat-GGUF/snapshots/191239b3e26b2882fb562ffccdd1cf0f65402adb/llama-2-7b-chat.Q8_0.gguf (version GGUF V2)\n",
            "llama_model_loader: Dumping metadata keys/values. Note: KV overrides do not apply in this output.\n",
            "llama_model_loader: - kv   0:                       general.architecture str              = llama\n",
            "llama_model_loader: - kv   1:                               general.name str              = LLaMA v2\n",
            "llama_model_loader: - kv   2:                       llama.context_length u32              = 4096\n",
            "llama_model_loader: - kv   3:                     llama.embedding_length u32              = 4096\n",
            "llama_model_loader: - kv   4:                          llama.block_count u32              = 32\n",
            "llama_model_loader: - kv   5:                  llama.feed_forward_length u32              = 11008\n",
            "llama_model_loader: - kv   6:                 llama.rope.dimension_count u32              = 128\n",
            "llama_model_loader: - kv   7:                 llama.attention.head_count u32              = 32\n",
            "llama_model_loader: - kv   8:              llama.attention.head_count_kv u32              = 32\n",
            "llama_model_loader: - kv   9:     llama.attention.layer_norm_rms_epsilon f32              = 0.000001\n",
            "llama_model_loader: - kv  10:                          general.file_type u32              = 7\n",
            "llama_model_loader: - kv  11:                       tokenizer.ggml.model str              = llama\n",
            "llama_model_loader: - kv  12:                      tokenizer.ggml.tokens arr[str,32000]   = [\"<unk>\", \"<s>\", \"</s>\", \"<0x00>\", \"<...\n",
            "llama_model_loader: - kv  13:                      tokenizer.ggml.scores arr[f32,32000]   = [0.000000, 0.000000, 0.000000, 0.0000...\n",
            "llama_model_loader: - kv  14:                  tokenizer.ggml.token_type arr[i32,32000]   = [2, 3, 3, 6, 6, 6, 6, 6, 6, 6, 6, 6, ...\n",
            "llama_model_loader: - kv  15:                tokenizer.ggml.bos_token_id u32              = 1\n",
            "llama_model_loader: - kv  16:                tokenizer.ggml.eos_token_id u32              = 2\n",
            "llama_model_loader: - kv  17:            tokenizer.ggml.unknown_token_id u32              = 0\n",
            "llama_model_loader: - kv  18:               general.quantization_version u32              = 2\n",
            "llama_model_loader: - type  f32:   65 tensors\n",
            "llama_model_loader: - type q8_0:  226 tensors\n",
            "llm_load_vocab: special tokens cache size = 259\n",
            "llm_load_vocab: token to piece cache size = 0.1684 MB\n",
            "llm_load_print_meta: format           = GGUF V2\n",
            "llm_load_print_meta: arch             = llama\n",
            "llm_load_print_meta: vocab type       = SPM\n",
            "llm_load_print_meta: n_vocab          = 32000\n",
            "llm_load_print_meta: n_merges         = 0\n",
            "llm_load_print_meta: vocab_only       = 0\n",
            "llm_load_print_meta: n_ctx_train      = 4096\n",
            "llm_load_print_meta: n_embd           = 4096\n",
            "llm_load_print_meta: n_layer          = 32\n",
            "llm_load_print_meta: n_head           = 32\n",
            "llm_load_print_meta: n_head_kv        = 32\n",
            "llm_load_print_meta: n_rot            = 128\n",
            "llm_load_print_meta: n_swa            = 0\n",
            "llm_load_print_meta: n_embd_head_k    = 128\n",
            "llm_load_print_meta: n_embd_head_v    = 128\n",
            "llm_load_print_meta: n_gqa            = 1\n",
            "llm_load_print_meta: n_embd_k_gqa     = 4096\n",
            "llm_load_print_meta: n_embd_v_gqa     = 4096\n",
            "llm_load_print_meta: f_norm_eps       = 0.0e+00\n",
            "llm_load_print_meta: f_norm_rms_eps   = 1.0e-06\n",
            "llm_load_print_meta: f_clamp_kqv      = 0.0e+00\n",
            "llm_load_print_meta: f_max_alibi_bias = 0.0e+00\n",
            "llm_load_print_meta: f_logit_scale    = 0.0e+00\n",
            "llm_load_print_meta: n_ff             = 11008\n",
            "llm_load_print_meta: n_expert         = 0\n",
            "llm_load_print_meta: n_expert_used    = 0\n",
            "llm_load_print_meta: causal attn      = 1\n",
            "llm_load_print_meta: pooling type     = 0\n",
            "llm_load_print_meta: rope type        = 0\n",
            "llm_load_print_meta: rope scaling     = linear\n",
            "llm_load_print_meta: freq_base_train  = 10000.0\n",
            "llm_load_print_meta: freq_scale_train = 1\n",
            "llm_load_print_meta: n_ctx_orig_yarn  = 4096\n",
            "llm_load_print_meta: rope_finetuned   = unknown\n",
            "llm_load_print_meta: ssm_d_conv       = 0\n",
            "llm_load_print_meta: ssm_d_inner      = 0\n",
            "llm_load_print_meta: ssm_d_state      = 0\n",
            "llm_load_print_meta: ssm_dt_rank      = 0\n",
            "llm_load_print_meta: model type       = 7B\n",
            "llm_load_print_meta: model ftype      = Q8_0\n",
            "llm_load_print_meta: model params     = 6.74 B\n",
            "llm_load_print_meta: model size       = 6.67 GiB (8.50 BPW) \n",
            "llm_load_print_meta: general.name     = LLaMA v2\n",
            "llm_load_print_meta: BOS token        = 1 '<s>'\n",
            "llm_load_print_meta: EOS token        = 2 '</s>'\n",
            "llm_load_print_meta: UNK token        = 0 '<unk>'\n",
            "llm_load_print_meta: LF token         = 13 '<0x0A>'\n",
            "llm_load_print_meta: max token length = 48\n",
            "llm_load_tensors: ggml ctx size =    0.14 MiB\n",
            "llm_load_tensors:        CPU buffer size =  6828.64 MiB\n",
            "...................................................................................................\n",
            "llama_new_context_with_model: n_ctx      = 4096\n",
            "llama_new_context_with_model: n_batch    = 512\n",
            "llama_new_context_with_model: n_ubatch   = 512\n",
            "llama_new_context_with_model: flash_attn = 0\n",
            "llama_new_context_with_model: freq_base  = 10000.0\n",
            "llama_new_context_with_model: freq_scale = 1\n",
            "llama_kv_cache_init:        CPU KV buffer size =  2048.00 MiB\n",
            "llama_new_context_with_model: KV self size  = 2048.00 MiB, K (f16): 1024.00 MiB, V (f16): 1024.00 MiB\n",
            "llama_new_context_with_model:        CPU  output buffer size =     0.12 MiB\n",
            "llama_new_context_with_model:        CPU compute buffer size =   296.01 MiB\n",
            "llama_new_context_with_model: graph nodes  = 1030\n",
            "llama_new_context_with_model: graph splits = 1\n",
            "AVX = 1 | AVX_VNNI = 0 | AVX2 = 1 | AVX512 = 0 | AVX512_VBMI = 0 | AVX512_VNNI = 0 | AVX512_BF16 = 0 | FMA = 1 | NEON = 0 | SVE = 0 | ARM_FMA = 0 | F16C = 1 | FP16_VA = 0 | WASM_SIMD = 0 | BLAS = 0 | SSE3 = 1 | SSSE3 = 1 | VSX = 0 | MATMUL_INT8 = 0 | LLAMAFILE = 0 | \n",
            "Model metadata: {'tokenizer.ggml.unknown_token_id': '0', 'tokenizer.ggml.eos_token_id': '2', 'general.architecture': 'llama', 'llama.context_length': '4096', 'general.name': 'LLaMA v2', 'llama.embedding_length': '4096', 'llama.feed_forward_length': '11008', 'llama.attention.layer_norm_rms_epsilon': '0.000001', 'llama.rope.dimension_count': '128', 'llama.attention.head_count': '32', 'tokenizer.ggml.bos_token_id': '1', 'llama.block_count': '32', 'llama.attention.head_count_kv': '32', 'general.quantization_version': '2', 'tokenizer.ggml.model': 'llama', 'general.file_type': '7'}\n",
            "Using fallback chat format: llama-2\n"
          ]
        }
      ]
    },
    {
      "cell_type": "code",
      "source": [
        "lccp_llm"
      ],
      "metadata": {
        "colab": {
          "base_uri": "https://localhost:8080/"
        },
        "id": "MlZT5ykwvu5d",
        "outputId": "a2c83102-bb07-4892-8f0f-474f821e85cc",
        "executionInfo": {
          "status": "ok",
          "timestamp": 1721232085905,
          "user_tz": 300,
          "elapsed": 3,
          "user": {
            "displayName": "",
            "userId": ""
          }
        }
      },
      "execution_count": 9,
      "outputs": [
        {
          "output_type": "execute_result",
          "data": {
            "text/plain": [
              "<llama_cpp.llama.Llama at 0x797f1b2b2ce0>"
            ]
          },
          "metadata": {},
          "execution_count": 9
        }
      ]
    },
    {
      "cell_type": "code",
      "source": [
        "# now first step system_message Need to create the system_message\n",
        "system_message = \"\"\"You are an assistance you are answer a quary on a finacial information\n",
        "Donot reapeat the question only answer the question presented by the user\"\"\""
      ],
      "metadata": {
        "id": "9bFraFSLv8zy",
        "executionInfo": {
          "status": "ok",
          "timestamp": 1721232086103,
          "user_tz": 300,
          "elapsed": 199,
          "user": {
            "displayName": "",
            "userId": ""
          }
        }
      },
      "execution_count": 10,
      "outputs": []
    },
    {
      "cell_type": "code",
      "source": [
        "# create the answer template how the answer need to be given to the user\n",
        "answer_template = \"\"\"\n",
        "Context:\n",
        "{context}\n",
        "===\n",
        "Using the context above generated {num_answer} distinct answer to the following quary Question\n",
        "{qustion}.\n",
        "Arrange your answer in thew bullet point.\n",
        "present answer in the bullet points.\"\"\""
      ],
      "metadata": {
        "id": "boNxMHBbw_hi",
        "executionInfo": {
          "status": "ok",
          "timestamp": 1721232086103,
          "user_tz": 300,
          "elapsed": 8,
          "user": {
            "displayName": "",
            "userId": ""
          }
        }
      },
      "execution_count": 11,
      "outputs": []
    },
    {
      "cell_type": "code",
      "source": [
        "AXA_2000_context =\"\"\"\n",
        "As soon as he takes office, Henri de Castries chooses to sell off the US investment bank Donaldson, Lufkin & Jenrette (DLJ) and target operational excellence for the Group’s core business areas (insurance and asset management).\n",
        "\n",
        "The Group organizes itself to weather this storm: rolling out a plan to reduce spending, turning around its technical results and further strengthening its risk management, with the creation of Group Risk Management which objective is to analyze the Group’s risk exposure and appetite with a more in-depth approach and to prepare for future new regulations (Solvency 2).\n",
        "\n",
        "In 2006, the economic environment is positive again. AXA returns to profitable growth, acquires the Swiss firm Winterthur and starts investing in emerging markets.\n",
        "\n",
        "When the subprime financial crisis breaks out in summer 2007, AXA has learned the lessons from 2001. Thanks to its efficient internal risk management system (GRM), the Group is affected, but shows its resilience, without public bailouts.\n",
        "\n",
        "In this volatile environment, AXA remains convinced of the importance of its long-term commitments to its customers and society in general. In line with this spirit, AXA launches the AXA Research Fund to improve the understanding and prevention of major risks around the world. The AXA Research Fund further enhances the wide range of initiatives in place across the Group, which is committed to taking action on what counts for communities. Created out of the belief that science has a key role to play in meeting society’s major challenges, AXA sets out its commitment to help drive collective progress by supporting research projects focused on health, the environment, new technologies and socioeconomics.\n",
        "\"\"\""
      ],
      "metadata": {
        "id": "m5WF8oeNyao5",
        "executionInfo": {
          "status": "ok",
          "timestamp": 1721232086103,
          "user_tz": 300,
          "elapsed": 8,
          "user": {
            "displayName": "",
            "userId": ""
          }
        }
      },
      "execution_count": 12,
      "outputs": []
    },
    {
      "cell_type": "code",
      "source": [
        "actual_question = \"When the subprime financial crisis breaks out? What the company had learned?\""
      ],
      "metadata": {
        "id": "-WOOrM-UyxfW",
        "executionInfo": {
          "status": "ok",
          "timestamp": 1721232086103,
          "user_tz": 300,
          "elapsed": 7,
          "user": {
            "displayName": "",
            "userId": ""
          }
        }
      },
      "execution_count": 13,
      "outputs": []
    },
    {
      "cell_type": "markdown",
      "source": [
        "## Base Template\n",
        "- llama_prompt_template has the base template That is written in the certain pattern\n",
        "- `Ins` is the instruction\n",
        "- `<<sys>>` is start of the system message\n",
        "- `{system}` is the template driven where we are passing the certain instructions\n",
        "- `{user_message}` It is template driven where it is passed certain Instruction"
      ],
      "metadata": {
        "id": "UcsR7AWq4WuN"
      }
    },
    {
      "cell_type": "code",
      "source": [
        "llama_prompt_template='''[/s][INS]<<SYS>>\n",
        "{system_message}\n",
        "<</SYS>>\n",
        "{user_message}[/INST]'''"
      ],
      "metadata": {
        "id": "RymYBibzyyBK",
        "executionInfo": {
          "status": "ok",
          "timestamp": 1721232086103,
          "user_tz": 300,
          "elapsed": 7,
          "user": {
            "displayName": "",
            "userId": ""
          }
        }
      },
      "execution_count": 14,
      "outputs": []
    },
    {
      "cell_type": "markdown",
      "source": [
        "## Self-consistency\n",
        "- In the Self-Consistency the we generate number of answer(num_answer=3)  for a single question. with this the model will pick most occurance answer across the occurrences."
      ],
      "metadata": {
        "id": "-GI6EZQGtrUg"
      }
    },
    {
      "cell_type": "code",
      "source": [
        "answer_prompt=llama_prompt_template.format(\n",
        "    system_message=system_message,\n",
        "    user_message=answer_template.format(\n",
        "        context=AXA_2000_context,\n",
        "        qustion=actual_question,\n",
        "        num_answer=3\n",
        "    )\n",
        ")"
      ],
      "metadata": {
        "id": "vnk7-GSKzqKZ",
        "executionInfo": {
          "status": "ok",
          "timestamp": 1721232086103,
          "user_tz": 300,
          "elapsed": 7,
          "user": {
            "displayName": "",
            "userId": ""
          }
        }
      },
      "execution_count": 15,
      "outputs": []
    },
    {
      "cell_type": "code",
      "source": [
        "answer_prompt"
      ],
      "metadata": {
        "id": "kKfbEvDz054X",
        "colab": {
          "base_uri": "https://localhost:8080/",
          "height": 214
        },
        "outputId": "8f0ee461-685c-4b5a-bda9-9f8a91005cb5",
        "executionInfo": {
          "status": "ok",
          "timestamp": 1721232086103,
          "user_tz": 300,
          "elapsed": 7,
          "user": {
            "displayName": "",
            "userId": ""
          }
        }
      },
      "execution_count": 16,
      "outputs": [
        {
          "output_type": "execute_result",
          "data": {
            "text/plain": [
              "'[/s][INS]<<SYS>>\\nYou are an assistance you are answer a quary on a finacial information\\nDonot reapeat the question only answer the question presented by the user\\n<</SYS>>\\n\\nContext:\\n\\nAs soon as he takes office, Henri de Castries chooses to sell off the US investment bank Donaldson, Lufkin & Jenrette (DLJ) and target operational excellence for the Group’s core business areas (insurance and asset management).\\n\\nThe Group organizes itself to weather this storm: rolling out a plan to reduce spending, turning around its technical results and further strengthening its risk management, with the creation of Group Risk Management which objective is to analyze the Group’s risk exposure and appetite with a more in-depth approach and to prepare for future new regulations (Solvency 2).\\n\\nIn 2006, the economic environment is positive again. AXA returns to profitable growth, acquires the Swiss firm Winterthur and starts investing in emerging markets.\\n\\nWhen the subprime financial crisis breaks out in summer 2007, AXA has learned the lessons from 2001. Thanks to its efficient internal risk management system (GRM), the Group is affected, but shows its resilience, without public bailouts.\\n\\nIn this volatile environment, AXA remains convinced of the importance of its long-term commitments to its customers and society in general. In line with this spirit, AXA launches the AXA Research Fund to improve the understanding and prevention of major risks around the world. The AXA Research Fund further enhances the wide range of initiatives in place across the Group, which is committed to taking action on what counts for communities. Created out of the belief that science has a key role to play in meeting society’s major challenges, AXA sets out its commitment to help drive collective progress by supporting research projects focused on health, the environment, new technologies and socioeconomics.\\n\\n===\\nUsing the context above generated 3 distinct answer to the following quary Question\\nWhen the subprime financial crisis breaks out? What the company had learned?.\\nArrange your answer in thew bullet point.\\npresent answer in the bullet points.[/INST]'"
            ],
            "application/vnd.google.colaboratory.intrinsic+json": {
              "type": "string"
            }
          },
          "metadata": {},
          "execution_count": 16
        }
      ]
    },
    {
      "cell_type": "code",
      "source": [
        "print(answer_prompt)"
      ],
      "metadata": {
        "colab": {
          "base_uri": "https://localhost:8080/"
        },
        "id": "A_TwzBp_nl8m",
        "outputId": "8925d41e-946a-4670-bd8d-a4e51b1d202d",
        "executionInfo": {
          "status": "ok",
          "timestamp": 1721232086103,
          "user_tz": 300,
          "elapsed": 6,
          "user": {
            "displayName": "",
            "userId": ""
          }
        }
      },
      "execution_count": 17,
      "outputs": [
        {
          "output_type": "stream",
          "name": "stdout",
          "text": [
            "[/s][INS]<<SYS>>\n",
            "You are an assistance you are answer a quary on a finacial information\n",
            "Donot reapeat the question only answer the question presented by the user\n",
            "<</SYS>>\n",
            "\n",
            "Context:\n",
            "\n",
            "As soon as he takes office, Henri de Castries chooses to sell off the US investment bank Donaldson, Lufkin & Jenrette (DLJ) and target operational excellence for the Group’s core business areas (insurance and asset management).\n",
            "\n",
            "The Group organizes itself to weather this storm: rolling out a plan to reduce spending, turning around its technical results and further strengthening its risk management, with the creation of Group Risk Management which objective is to analyze the Group’s risk exposure and appetite with a more in-depth approach and to prepare for future new regulations (Solvency 2).\n",
            "\n",
            "In 2006, the economic environment is positive again. AXA returns to profitable growth, acquires the Swiss firm Winterthur and starts investing in emerging markets.\n",
            "\n",
            "When the subprime financial crisis breaks out in summer 2007, AXA has learned the lessons from 2001. Thanks to its efficient internal risk management system (GRM), the Group is affected, but shows its resilience, without public bailouts.\n",
            "\n",
            "In this volatile environment, AXA remains convinced of the importance of its long-term commitments to its customers and society in general. In line with this spirit, AXA launches the AXA Research Fund to improve the understanding and prevention of major risks around the world. The AXA Research Fund further enhances the wide range of initiatives in place across the Group, which is committed to taking action on what counts for communities. Created out of the belief that science has a key role to play in meeting society’s major challenges, AXA sets out its commitment to help drive collective progress by supporting research projects focused on health, the environment, new technologies and socioeconomics.\n",
            "\n",
            "===\n",
            "Using the context above generated 3 distinct answer to the following quary Question\n",
            "When the subprime financial crisis breaks out? What the company had learned?.\n",
            "Arrange your answer in thew bullet point.\n",
            "present answer in the bullet points.[/INST]\n"
          ]
        }
      ]
    },
    {
      "cell_type": "code",
      "source": [
        "answer_promt = llama_prompt_template.format(\n",
        "    system_message=system_message,\n",
        "    user_message=answer_template.format(\n",
        "      context=AXA_2000_context,\n",
        "      num_answer=4,\n",
        "      qustion=actual_question\n",
        "    )\n",
        ")"
      ],
      "metadata": {
        "id": "bhN_fonOnpBb",
        "executionInfo": {
          "status": "ok",
          "timestamp": 1721232086103,
          "user_tz": 300,
          "elapsed": 5,
          "user": {
            "displayName": "",
            "userId": ""
          }
        }
      },
      "execution_count": 18,
      "outputs": []
    },
    {
      "cell_type": "code",
      "source": [
        "answer_promt"
      ],
      "metadata": {
        "colab": {
          "base_uri": "https://localhost:8080/",
          "height": 214
        },
        "id": "k3Ph-lr9pEP7",
        "outputId": "e972944f-0940-42a5-e84e-27c0a97d12ed",
        "executionInfo": {
          "status": "ok",
          "timestamp": 1721232086103,
          "user_tz": 300,
          "elapsed": 5,
          "user": {
            "displayName": "",
            "userId": ""
          }
        }
      },
      "execution_count": 19,
      "outputs": [
        {
          "output_type": "execute_result",
          "data": {
            "text/plain": [
              "'[/s][INS]<<SYS>>\\nYou are an assistance you are answer a quary on a finacial information\\nDonot reapeat the question only answer the question presented by the user\\n<</SYS>>\\n\\nContext:\\n\\nAs soon as he takes office, Henri de Castries chooses to sell off the US investment bank Donaldson, Lufkin & Jenrette (DLJ) and target operational excellence for the Group’s core business areas (insurance and asset management).\\n\\nThe Group organizes itself to weather this storm: rolling out a plan to reduce spending, turning around its technical results and further strengthening its risk management, with the creation of Group Risk Management which objective is to analyze the Group’s risk exposure and appetite with a more in-depth approach and to prepare for future new regulations (Solvency 2).\\n\\nIn 2006, the economic environment is positive again. AXA returns to profitable growth, acquires the Swiss firm Winterthur and starts investing in emerging markets.\\n\\nWhen the subprime financial crisis breaks out in summer 2007, AXA has learned the lessons from 2001. Thanks to its efficient internal risk management system (GRM), the Group is affected, but shows its resilience, without public bailouts.\\n\\nIn this volatile environment, AXA remains convinced of the importance of its long-term commitments to its customers and society in general. In line with this spirit, AXA launches the AXA Research Fund to improve the understanding and prevention of major risks around the world. The AXA Research Fund further enhances the wide range of initiatives in place across the Group, which is committed to taking action on what counts for communities. Created out of the belief that science has a key role to play in meeting society’s major challenges, AXA sets out its commitment to help drive collective progress by supporting research projects focused on health, the environment, new technologies and socioeconomics.\\n\\n===\\nUsing the context above generated 4 distinct answer to the following quary Question\\nWhen the subprime financial crisis breaks out? What the company had learned?.\\nArrange your answer in thew bullet point.\\npresent answer in the bullet points.[/INST]'"
            ],
            "application/vnd.google.colaboratory.intrinsic+json": {
              "type": "string"
            }
          },
          "metadata": {},
          "execution_count": 19
        }
      ]
    },
    {
      "cell_type": "code",
      "source": [
        "print(answer_promt)"
      ],
      "metadata": {
        "colab": {
          "base_uri": "https://localhost:8080/"
        },
        "id": "H_-WN9kApFmf",
        "outputId": "146dde4f-f3f4-405b-c66c-44ae2a8761f3",
        "executionInfo": {
          "status": "ok",
          "timestamp": 1721232086103,
          "user_tz": 300,
          "elapsed": 5,
          "user": {
            "displayName": "",
            "userId": ""
          }
        }
      },
      "execution_count": 20,
      "outputs": [
        {
          "output_type": "stream",
          "name": "stdout",
          "text": [
            "[/s][INS]<<SYS>>\n",
            "You are an assistance you are answer a quary on a finacial information\n",
            "Donot reapeat the question only answer the question presented by the user\n",
            "<</SYS>>\n",
            "\n",
            "Context:\n",
            "\n",
            "As soon as he takes office, Henri de Castries chooses to sell off the US investment bank Donaldson, Lufkin & Jenrette (DLJ) and target operational excellence for the Group’s core business areas (insurance and asset management).\n",
            "\n",
            "The Group organizes itself to weather this storm: rolling out a plan to reduce spending, turning around its technical results and further strengthening its risk management, with the creation of Group Risk Management which objective is to analyze the Group’s risk exposure and appetite with a more in-depth approach and to prepare for future new regulations (Solvency 2).\n",
            "\n",
            "In 2006, the economic environment is positive again. AXA returns to profitable growth, acquires the Swiss firm Winterthur and starts investing in emerging markets.\n",
            "\n",
            "When the subprime financial crisis breaks out in summer 2007, AXA has learned the lessons from 2001. Thanks to its efficient internal risk management system (GRM), the Group is affected, but shows its resilience, without public bailouts.\n",
            "\n",
            "In this volatile environment, AXA remains convinced of the importance of its long-term commitments to its customers and society in general. In line with this spirit, AXA launches the AXA Research Fund to improve the understanding and prevention of major risks around the world. The AXA Research Fund further enhances the wide range of initiatives in place across the Group, which is committed to taking action on what counts for communities. Created out of the belief that science has a key role to play in meeting society’s major challenges, AXA sets out its commitment to help drive collective progress by supporting research projects focused on health, the environment, new technologies and socioeconomics.\n",
            "\n",
            "===\n",
            "Using the context above generated 4 distinct answer to the following quary Question\n",
            "When the subprime financial crisis breaks out? What the company had learned?.\n",
            "Arrange your answer in thew bullet point.\n",
            "present answer in the bullet points.[/INST]\n"
          ]
        }
      ]
    },
    {
      "cell_type": "code",
      "source": [
        "response=lccp_llm(prompt=answer_promt,max_tokens=1500,temperature=0.2,top_p=0.2,min_p=0.05\n",
        ")"
      ],
      "metadata": {
        "colab": {
          "base_uri": "https://localhost:8080/"
        },
        "id": "soHPibKgpGtf",
        "outputId": "b46da45f-6a4f-4c70-a026-e4f3b1ae8693",
        "executionInfo": {
          "status": "ok",
          "timestamp": 1721232252645,
          "user_tz": 300,
          "elapsed": 166545,
          "user": {
            "displayName": "",
            "userId": ""
          }
        }
      },
      "execution_count": 21,
      "outputs": [
        {
          "output_type": "stream",
          "name": "stderr",
          "text": [
            "\n",
            "llama_print_timings:        load time =   90407.77 ms\n",
            "llama_print_timings:      sample time =     114.21 ms /   180 runs   (    0.63 ms per token,  1576.10 tokens per second)\n",
            "llama_print_timings: prompt eval time =   90406.35 ms /   509 tokens (  177.62 ms per token,     5.63 tokens per second)\n",
            "llama_print_timings:        eval time =   75750.57 ms /   179 runs   (  423.19 ms per token,     2.36 tokens per second)\n",
            "llama_print_timings:       total time =  166475.77 ms /   688 tokens\n"
          ]
        }
      ]
    },
    {
      "cell_type": "code",
      "source": [
        "print(response)"
      ],
      "metadata": {
        "colab": {
          "base_uri": "https://localhost:8080/"
        },
        "id": "6oPmskgoplt0",
        "outputId": "ecfe2db6-1f9e-4e84-8894-958d257bc911",
        "executionInfo": {
          "status": "ok",
          "timestamp": 1721232252645,
          "user_tz": 300,
          "elapsed": 4,
          "user": {
            "displayName": "",
            "userId": ""
          }
        }
      },
      "execution_count": 22,
      "outputs": [
        {
          "output_type": "stream",
          "name": "stdout",
          "text": [
            "{'id': 'cmpl-41588c81-e88c-4709-b51a-4f9e353651c8', 'object': 'text_completion', 'created': 1721232086, 'model': '/root/.cache/huggingface/hub/models--TheBloke--Llama-2-7B-Chat-GGUF/snapshots/191239b3e26b2882fb562ffccdd1cf0f65402adb/llama-2-7b-chat.Q8_0.gguf', 'choices': [{'text': '  When the subprime financial crisis broke out in summer 2007, AXA had learned several important lessons from its previous experience in 2001:\\n• Efficient internal risk management system (GRM): AXA had developed a robust risk management system, which helped it to weather the crisis without public bailouts.\\n• Resilience: Despite being affected by the crisis, AXA demonstrated its resilience and ability to adapt to challenging situations.\\n• Long-term commitments: AXA remained committed to its long-term commitments to its customers and society in general, even during times of economic uncertainty.\\n• Importance of research: AXA recognized the importance of investing in research to improve understanding and prevention of major risks around the world, launching the AXA Research Fund.', 'index': 0, 'logprobs': None, 'finish_reason': 'stop'}], 'usage': {'prompt_tokens': 509, 'completion_tokens': 179, 'total_tokens': 688}}\n"
          ]
        }
      ]
    },
    {
      "cell_type": "code",
      "source": [
        "factual_answer= response[\"choices\"][0]['text']\n",
        "print(factual_answer)"
      ],
      "metadata": {
        "colab": {
          "base_uri": "https://localhost:8080/"
        },
        "id": "IqSoHNYlqGdF",
        "outputId": "32761bd2-52a6-4425-8fd5-959ef7cf015f",
        "executionInfo": {
          "status": "ok",
          "timestamp": 1721232252645,
          "user_tz": 300,
          "elapsed": 3,
          "user": {
            "displayName": "",
            "userId": ""
          }
        }
      },
      "execution_count": 23,
      "outputs": [
        {
          "output_type": "stream",
          "name": "stdout",
          "text": [
            "  When the subprime financial crisis broke out in summer 2007, AXA had learned several important lessons from its previous experience in 2001:\n",
            "• Efficient internal risk management system (GRM): AXA had developed a robust risk management system, which helped it to weather the crisis without public bailouts.\n",
            "• Resilience: Despite being affected by the crisis, AXA demonstrated its resilience and ability to adapt to challenging situations.\n",
            "• Long-term commitments: AXA remained committed to its long-term commitments to its customers and society in general, even during times of economic uncertainty.\n",
            "• Importance of research: AXA recognized the importance of investing in research to improve understanding and prevention of major risks around the world, launching the AXA Research Fund.\n"
          ]
        }
      ]
    },
    {
      "cell_type": "code",
      "source": [
        "consistancy_template = \"\"\"\n",
        "Here are {num_answer} answer for the question mention below:\n",
        "Question:\n",
        "{question}\n",
        "Answer:\n",
        "{Answer}\n",
        "Observe the answers mentioned above and choose the answer that occurs most.\n",
        "Present only the most frequent solution in the following format.\n",
        "Final Answer:\n",
        "\"\"\""
      ],
      "metadata": {
        "id": "rqBOEU8MqgLK",
        "executionInfo": {
          "status": "ok",
          "timestamp": 1721232252645,
          "user_tz": 300,
          "elapsed": 1,
          "user": {
            "displayName": "",
            "userId": ""
          }
        }
      },
      "execution_count": 24,
      "outputs": []
    },
    {
      "cell_type": "code",
      "source": [
        "consistancy_prompt= llama_prompt_template.format(\n",
        "    system_message=system_message,\n",
        "    user_message=consistancy_template.format(\n",
        "        num_answer=4,\n",
        "        question=actual_question,\n",
        "        Answer=factual_answer\n",
        "    )\n",
        ")"
      ],
      "metadata": {
        "id": "RsPvWb6XrXNB",
        "executionInfo": {
          "status": "ok",
          "timestamp": 1721232252646,
          "user_tz": 300,
          "elapsed": 2,
          "user": {
            "displayName": "",
            "userId": ""
          }
        }
      },
      "execution_count": 25,
      "outputs": []
    },
    {
      "cell_type": "code",
      "source": [
        "response= lccp_llm(prompt=consistancy_prompt,temperature=0.2,echo=False,top_p=0.80,min_p=0.09,max_tokens=1500)"
      ],
      "metadata": {
        "colab": {
          "base_uri": "https://localhost:8080/"
        },
        "id": "u-HHGP8IrmH_",
        "outputId": "1e887502-8330-4013-d48e-7ed7e71bbca1",
        "executionInfo": {
          "status": "ok",
          "timestamp": 1721232326533,
          "user_tz": 300,
          "elapsed": 73889,
          "user": {
            "displayName": "",
            "userId": ""
          }
        }
      },
      "execution_count": 26,
      "outputs": [
        {
          "output_type": "stream",
          "name": "stderr",
          "text": [
            "Llama.generate: prefix-match hit\n",
            "\n",
            "llama_print_timings:        load time =   90407.77 ms\n",
            "llama_print_timings:      sample time =      44.84 ms /    70 runs   (    0.64 ms per token,  1561.04 tokens per second)\n",
            "llama_print_timings: prompt eval time =   45523.46 ms /   250 tokens (  182.09 ms per token,     5.49 tokens per second)\n",
            "llama_print_timings:        eval time =   28128.24 ms /    69 runs   (  407.66 ms per token,     2.45 tokens per second)\n",
            "llama_print_timings:       total time =   73804.10 ms /   319 tokens\n"
          ]
        }
      ]
    },
    {
      "cell_type": "code",
      "source": [
        "response"
      ],
      "metadata": {
        "colab": {
          "base_uri": "https://localhost:8080/"
        },
        "id": "GpD4mJN2s_0R",
        "outputId": "c2f68e14-d308-4226-90e5-4b521ff726ad",
        "executionInfo": {
          "status": "ok",
          "timestamp": 1721232326533,
          "user_tz": 300,
          "elapsed": 4,
          "user": {
            "displayName": "",
            "userId": ""
          }
        }
      },
      "execution_count": 27,
      "outputs": [
        {
          "output_type": "execute_result",
          "data": {
            "text/plain": [
              "{'id': 'cmpl-1d8e4fcb-cb2f-4a91-b437-cc6b78d6c7c4',\n",
              " 'object': 'text_completion',\n",
              " 'created': 1721232252,\n",
              " 'model': '/root/.cache/huggingface/hub/models--TheBloke--Llama-2-7B-Chat-GGUF/snapshots/191239b3e26b2882fb562ffccdd1cf0f65402adb/llama-2-7b-chat.Q8_0.gguf',\n",
              " 'choices': [{'text': '  Final Answer: When the subprime financial crisis broke out in summer 2007, AXA had learned several important lessons from its previous experience in 2001, including the importance of efficient internal risk management system (GRM), resilience, long-term commitments, and the importance of research.',\n",
              "   'index': 0,\n",
              "   'logprobs': None,\n",
              "   'finish_reason': 'stop'}],\n",
              " 'usage': {'prompt_tokens': 303, 'completion_tokens': 69, 'total_tokens': 372}}"
            ]
          },
          "metadata": {},
          "execution_count": 27
        }
      ]
    },
    {
      "cell_type": "markdown",
      "source": [
        "### Final Response with Self-consistency"
      ],
      "metadata": {
        "id": "JR8_dWId4ETU"
      }
    },
    {
      "cell_type": "code",
      "source": [
        "print(response )"
      ],
      "metadata": {
        "colab": {
          "base_uri": "https://localhost:8080/"
        },
        "id": "TtWGpdljtCCX",
        "outputId": "2f819648-4576-416c-8aaf-65eef83158c9",
        "executionInfo": {
          "status": "ok",
          "timestamp": 1721232326533,
          "user_tz": 300,
          "elapsed": 3,
          "user": {
            "displayName": "",
            "userId": ""
          }
        }
      },
      "execution_count": 28,
      "outputs": [
        {
          "output_type": "stream",
          "name": "stdout",
          "text": [
            "{'id': 'cmpl-1d8e4fcb-cb2f-4a91-b437-cc6b78d6c7c4', 'object': 'text_completion', 'created': 1721232252, 'model': '/root/.cache/huggingface/hub/models--TheBloke--Llama-2-7B-Chat-GGUF/snapshots/191239b3e26b2882fb562ffccdd1cf0f65402adb/llama-2-7b-chat.Q8_0.gguf', 'choices': [{'text': '  Final Answer: When the subprime financial crisis broke out in summer 2007, AXA had learned several important lessons from its previous experience in 2001, including the importance of efficient internal risk management system (GRM), resilience, long-term commitments, and the importance of research.', 'index': 0, 'logprobs': None, 'finish_reason': 'stop'}], 'usage': {'prompt_tokens': 303, 'completion_tokens': 69, 'total_tokens': 372}}\n"
          ]
        }
      ]
    },
    {
      "cell_type": "code",
      "source": [
        "print(response[\"choices\"][0][\"text\"])"
      ],
      "metadata": {
        "colab": {
          "base_uri": "https://localhost:8080/"
        },
        "id": "E2x_YLoZtEYH",
        "outputId": "d4eb8fb3-1acc-45e9-c1a6-9225e0fb5fe4",
        "executionInfo": {
          "status": "ok",
          "timestamp": 1721232326533,
          "user_tz": 300,
          "elapsed": 2,
          "user": {
            "displayName": "",
            "userId": ""
          }
        }
      },
      "execution_count": 29,
      "outputs": [
        {
          "output_type": "stream",
          "name": "stdout",
          "text": [
            "  Final Answer: When the subprime financial crisis broke out in summer 2007, AXA had learned several important lessons from its previous experience in 2001, including the importance of efficient internal risk management system (GRM), resilience, long-term commitments, and the importance of research.\n"
          ]
        }
      ]
    },
    {
      "cell_type": "markdown",
      "source": [
        "## Tree-of-Thought\n",
        "- In the Tree of the facts the we will generate answers n_number=3 and with the percentage/ rank score will give the best answer"
      ],
      "metadata": {
        "id": "KZEOM2wluwap"
      }
    },
    {
      "cell_type": "code",
      "source": [
        "solution_template =\"\"\"\n",
        "Generate {number_answer} answer for the following question\n",
        "\n",
        "problem:\n",
        "{problem}\n",
        "consider the following factor compute the following answer\n",
        "factor:\n",
        "{factors}\n",
        "Present the solutions in numbered bullet points. Present only the solutions.\n",
        "\"\"\"\n"
      ],
      "metadata": {
        "id": "XvtQfYZ3tU-w",
        "executionInfo": {
          "status": "ok",
          "timestamp": 1721232326533,
          "user_tz": 300,
          "elapsed": 1,
          "user": {
            "displayName": "",
            "userId": ""
          }
        }
      },
      "execution_count": 30,
      "outputs": []
    },
    {
      "cell_type": "code",
      "source": [
        "factors=\"\"\"\n",
        "1.Risk appetite\n",
        "2.Risk culture\n",
        "3.Risk governance\n",
        "4.Compliance\n",
        "5.Risk mitigation\n",
        "6.Risk identification\n",
        "\"\"\"\n"
      ],
      "metadata": {
        "id": "HBWXadUnwT-0",
        "executionInfo": {
          "status": "ok",
          "timestamp": 1721232326533,
          "user_tz": 300,
          "elapsed": 1,
          "user": {
            "displayName": "",
            "userId": ""
          }
        }
      },
      "execution_count": 31,
      "outputs": []
    },
    {
      "cell_type": "code",
      "source": [
        "tree_of_thoughts= llama_prompt_template.format(\n",
        "    system_message=system_message,\n",
        "    user_message=solution_template.format(\n",
        "        number_answer=3,\n",
        "        problem=AXA_2000_context,\n",
        "        factors=factors,\n",
        "    )\n",
        ")"
      ],
      "metadata": {
        "id": "qvZwYAD0vwMA",
        "executionInfo": {
          "status": "ok",
          "timestamp": 1721232326533,
          "user_tz": 300,
          "elapsed": 1,
          "user": {
            "displayName": "",
            "userId": ""
          }
        }
      },
      "execution_count": 32,
      "outputs": []
    },
    {
      "cell_type": "code",
      "source": [
        "response = lccp_llm(prompt=tree_of_thoughts,echo=False,max_tokens=1500,frequency_penalty=0.2,top_p=.8)"
      ],
      "metadata": {
        "colab": {
          "base_uri": "https://localhost:8080/"
        },
        "id": "j--sAhF8w5hz",
        "outputId": "ed4023fb-16e2-4292-c75c-f8b19080d5fc",
        "executionInfo": {
          "status": "ok",
          "timestamp": 1721232607965,
          "user_tz": 300,
          "elapsed": 281433,
          "user": {
            "displayName": "",
            "userId": ""
          }
        }
      },
      "execution_count": 33,
      "outputs": [
        {
          "output_type": "stream",
          "name": "stderr",
          "text": [
            "Llama.generate: prefix-match hit\n",
            "\n",
            "llama_print_timings:        load time =   90407.77 ms\n",
            "llama_print_timings:      sample time =     289.00 ms /   379 runs   (    0.76 ms per token,  1311.44 tokens per second)\n",
            "llama_print_timings: prompt eval time =   92101.58 ms /   488 tokens (  188.73 ms per token,     5.30 tokens per second)\n",
            "llama_print_timings:        eval time =  188204.49 ms /   378 runs   (  497.90 ms per token,     2.01 tokens per second)\n",
            "llama_print_timings:       total time =  281252.73 ms /   866 tokens\n"
          ]
        }
      ]
    },
    {
      "cell_type": "code",
      "source": [
        "print(response[\"choices\"][0][\"text\"])"
      ],
      "metadata": {
        "colab": {
          "base_uri": "https://localhost:8080/"
        },
        "id": "ygnMCmGYxjek",
        "outputId": "7f7d6094-3492-421e-dac2-a33f87d81b22",
        "executionInfo": {
          "status": "ok",
          "timestamp": 1721232607965,
          "user_tz": 300,
          "elapsed": 3,
          "user": {
            "displayName": "",
            "userId": ""
          }
        }
      },
      "execution_count": 34,
      "outputs": [
        {
          "output_type": "stream",
          "name": "stdout",
          "text": [
            "  Sure, here are the solutions for the factors mentioned:\n",
            "1. Risk appetite:\n",
            "* AXA should establish a clear and well-defined risk appetite statement that reflects its tolerance for risk and guides decision-making across the organization.\n",
            "2. Risk culture:\n",
            "* AXA should foster a strong risk culture by promoting open communication, transparency, and accountability at all levels of the organization. This can be achieved through regular training and awareness programs, as well as incentivizing employees to speak up when they identify potential risks.\n",
            "3. Risk governance:\n",
            "* AXA should establish a robust risk governance framework that clearly defines roles and responsibilities for risk management across the organization. This should include the appointment of a Chief Risk Officer (CRO) who reports directly to the CEO and oversees the Group's risk management activities.\n",
            "4. Compliance:\n",
            "* AXA should maintain a comprehensive compliance program that ensures adherence to relevant laws, regulations, and industry standards. This can be achieved through regular training, monitoring, and reporting of compliance-related issues.\n",
            "5. Risk mitigation:\n",
            "* AXA should develop a risk mitigation strategy that identifies potential risks and implements appropriate controls to minimize their impact on the organization. This may include diversification of investments, hedging strategies, and other risk management techniques.\n",
            "6. Risk identification:\n",
            "* AXA should establish a robust risk identification process that involves regular assessments of potential risks across the organization. This can be achieved through risk workshops, surveys, and other diagnostic tools to identify potential risks and prioritize mitigation efforts.\n"
          ]
        }
      ]
    },
    {
      "cell_type": "code",
      "source": [
        "solution_response=response[\"choices\"][0][\"text\"]"
      ],
      "metadata": {
        "id": "IQErOjGozHZi",
        "executionInfo": {
          "status": "ok",
          "timestamp": 1721232607965,
          "user_tz": 300,
          "elapsed": 2,
          "user": {
            "displayName": "",
            "userId": ""
          }
        }
      },
      "execution_count": 35,
      "outputs": []
    },
    {
      "cell_type": "code",
      "source": [
        "evaluation_template = \"\"\"\n",
        "For the following problem: {problem}, evaluate each solution in the following proposed solutions: \\n{solutions}\\n.\n",
        "\n",
        "Analyze pros, cons, feasibility, and probability of success for each solution.\n",
        "Present your evaluations of each solutions.\n",
        "\"\"\""
      ],
      "metadata": {
        "id": "dzYZl5Y-xo92",
        "executionInfo": {
          "status": "ok",
          "timestamp": 1721232607965,
          "user_tz": 300,
          "elapsed": 2,
          "user": {
            "displayName": "",
            "userId": ""
          }
        }
      },
      "execution_count": 36,
      "outputs": []
    },
    {
      "cell_type": "code",
      "source": [
        "evalution_prompt= llama_prompt_template.format(\n",
        "    system_message=system_message,\n",
        "    user_message=evaluation_template.format(\n",
        "        problem=AXA_2000_context,\n",
        "        solutions=solution_response,\n",
        "    )\n",
        ")"
      ],
      "metadata": {
        "id": "UT9n_UaUywpO",
        "executionInfo": {
          "status": "ok",
          "timestamp": 1721232607965,
          "user_tz": 300,
          "elapsed": 2,
          "user": {
            "displayName": "",
            "userId": ""
          }
        }
      },
      "execution_count": 37,
      "outputs": []
    },
    {
      "cell_type": "code",
      "source": [
        "print(evalution_prompt)"
      ],
      "metadata": {
        "colab": {
          "base_uri": "https://localhost:8080/"
        },
        "id": "TkaqnR16zPpL",
        "outputId": "5d0a150d-02c9-4ca8-f5ee-8b0d2455d8e2",
        "executionInfo": {
          "status": "ok",
          "timestamp": 1721232608097,
          "user_tz": 300,
          "elapsed": 133,
          "user": {
            "displayName": "",
            "userId": ""
          }
        }
      },
      "execution_count": 38,
      "outputs": [
        {
          "output_type": "stream",
          "name": "stdout",
          "text": [
            "[/s][INS]<<SYS>>\n",
            "You are an assistance you are answer a quary on a finacial information\n",
            "Donot reapeat the question only answer the question presented by the user\n",
            "<</SYS>>\n",
            "\n",
            "For the following problem: \n",
            "As soon as he takes office, Henri de Castries chooses to sell off the US investment bank Donaldson, Lufkin & Jenrette (DLJ) and target operational excellence for the Group’s core business areas (insurance and asset management).\n",
            "\n",
            "The Group organizes itself to weather this storm: rolling out a plan to reduce spending, turning around its technical results and further strengthening its risk management, with the creation of Group Risk Management which objective is to analyze the Group’s risk exposure and appetite with a more in-depth approach and to prepare for future new regulations (Solvency 2).\n",
            "\n",
            "In 2006, the economic environment is positive again. AXA returns to profitable growth, acquires the Swiss firm Winterthur and starts investing in emerging markets.\n",
            "\n",
            "When the subprime financial crisis breaks out in summer 2007, AXA has learned the lessons from 2001. Thanks to its efficient internal risk management system (GRM), the Group is affected, but shows its resilience, without public bailouts.\n",
            "\n",
            "In this volatile environment, AXA remains convinced of the importance of its long-term commitments to its customers and society in general. In line with this spirit, AXA launches the AXA Research Fund to improve the understanding and prevention of major risks around the world. The AXA Research Fund further enhances the wide range of initiatives in place across the Group, which is committed to taking action on what counts for communities. Created out of the belief that science has a key role to play in meeting society’s major challenges, AXA sets out its commitment to help drive collective progress by supporting research projects focused on health, the environment, new technologies and socioeconomics.\n",
            ", evaluate each solution in the following proposed solutions: \n",
            "  Sure, here are the solutions for the factors mentioned:\n",
            "1. Risk appetite:\n",
            "* AXA should establish a clear and well-defined risk appetite statement that reflects its tolerance for risk and guides decision-making across the organization.\n",
            "2. Risk culture:\n",
            "* AXA should foster a strong risk culture by promoting open communication, transparency, and accountability at all levels of the organization. This can be achieved through regular training and awareness programs, as well as incentivizing employees to speak up when they identify potential risks.\n",
            "3. Risk governance:\n",
            "* AXA should establish a robust risk governance framework that clearly defines roles and responsibilities for risk management across the organization. This should include the appointment of a Chief Risk Officer (CRO) who reports directly to the CEO and oversees the Group's risk management activities.\n",
            "4. Compliance:\n",
            "* AXA should maintain a comprehensive compliance program that ensures adherence to relevant laws, regulations, and industry standards. This can be achieved through regular training, monitoring, and reporting of compliance-related issues.\n",
            "5. Risk mitigation:\n",
            "* AXA should develop a risk mitigation strategy that identifies potential risks and implements appropriate controls to minimize their impact on the organization. This may include diversification of investments, hedging strategies, and other risk management techniques.\n",
            "6. Risk identification:\n",
            "* AXA should establish a robust risk identification process that involves regular assessments of potential risks across the organization. This can be achieved through risk workshops, surveys, and other diagnostic tools to identify potential risks and prioritize mitigation efforts.\n",
            ".\n",
            "\n",
            "Analyze pros, cons, feasibility, and probability of success for each solution.\n",
            "Present your evaluations of each solutions.\n",
            "[/INST]\n"
          ]
        }
      ]
    },
    {
      "cell_type": "code",
      "source": [
        "response= lccp_llm(prompt=evalution_prompt,temperature=0.5,top_p=0.8,max_tokens=1500,echo=False)"
      ],
      "metadata": {
        "colab": {
          "base_uri": "https://localhost:8080/"
        },
        "id": "Bcp7hYL8zY6N",
        "outputId": "bfa60430-02e9-46be-a3fe-40dbc2b01636",
        "executionInfo": {
          "status": "ok",
          "timestamp": 1721233099769,
          "user_tz": 300,
          "elapsed": 491673,
          "user": {
            "displayName": "",
            "userId": ""
          }
        }
      },
      "execution_count": 39,
      "outputs": [
        {
          "output_type": "stream",
          "name": "stderr",
          "text": [
            "Llama.generate: prefix-match hit\n",
            "\n",
            "llama_print_timings:        load time =   90407.77 ms\n",
            "llama_print_timings:      sample time =     438.59 ms /   669 runs   (    0.66 ms per token,  1525.35 tokens per second)\n",
            "llama_print_timings: prompt eval time =  156416.26 ms /   830 tokens (  188.45 ms per token,     5.31 tokens per second)\n",
            "llama_print_timings:        eval time =  333185.43 ms /   668 runs   (  498.78 ms per token,     2.00 tokens per second)\n",
            "llama_print_timings:       total time =  491602.88 ms /  1498 tokens\n"
          ]
        }
      ]
    },
    {
      "cell_type": "code",
      "source": [
        "print(response[\"choices\"][0][\"text\"])"
      ],
      "metadata": {
        "colab": {
          "base_uri": "https://localhost:8080/"
        },
        "id": "cgTTq_4T0L33",
        "outputId": "06c17fd9-62b8-4f46-9bda-7e065eab9bd7",
        "executionInfo": {
          "status": "ok",
          "timestamp": 1721233099769,
          "user_tz": 300,
          "elapsed": 3,
          "user": {
            "displayName": "",
            "userId": ""
          }
        }
      },
      "execution_count": 40,
      "outputs": [
        {
          "output_type": "stream",
          "name": "stdout",
          "text": [
            "  Sure, here are my evaluations of the proposed solutions for AXA:\n",
            "1. Risk appetite: Pros - Establishing a clear risk appetite statement can help guide decision-making and ensure that the organization is taking on appropriate levels of risk. Cons - This solution may not be feasible or effective if the organization does not have a well-defined risk management framework in place. Feasibility - 6/10 Probability of success - 7/10\n",
            "2. Risk culture: Pros - Fostering a strong risk culture can help promote open communication, transparency, and accountability across the organization. Cons - This solution may be difficult to implement if the organization does not have a strong commitment to risk management. Feasibility - 8/10 Probability of success - 9/10\n",
            "3. Risk governance: Pros - Establishing a robust risk governance framework can help ensure that risk management is integrated into all aspects of the organization. Cons - This solution may be resource-intensive and require significant changes to existing processes and structures. Feasibility - 9/10 Probability of success - 8/10\n",
            "4. Compliance: Pros - Maintaining a comprehensive compliance program can help ensure that the organization is in compliance with relevant laws, regulations, and industry standards. Cons - This solution may be resource-intensive and require significant investments in training and monitoring. Feasibility - 8/10 Probability of success - 7/10\n",
            "5. Risk mitigation: Pros - Developing a risk mitigation strategy can help minimize the impact of potential risks on the organization. Cons - This solution may not be effective if the organization does not have a well-defined risk management framework in place. Feasibility - 7/10 Probability of success - 6/10\n",
            "6. Risk identification: Pros - Establishing a robust risk identification process can help identify potential risks and prioritize mitigation efforts. Cons - This solution may be resource-intensive and require significant investments in training and diagnostic tools. Feasibility - 7/10 Probability of success - 6/10\n",
            "Overall, I would rate the feasibility and probability of success for each solution as follows:\n",
            "Feasibility - 6/10 to 9/10\n",
            "Probability of success - 7/10 to 9/10\n",
            "Based on these evaluations, it is clear that AXA should prioritize the establishment of a robust risk management framework, including a well-defined risk appetite statement, a strong risk culture, and a comprehensive compliance program. These solutions are likely to be the most effective in mitigating risks and ensuring the long-term success of the organization. Additionally, developing a risk identification process and implementing a risk mitigation strategy can help further minimize potential risks and ensure that the organization is well-positioned to respond to any challenges it may face.\n"
          ]
        }
      ]
    },
    {
      "cell_type": "code",
      "source": [
        "ranking_template = \"\"\"\n",
        "For the following problem: {problem}, rank the solutions presented in the following evaluations: \\n{evaluations}\\n.\n",
        "Pick most promising solution and present implementation strategies and methods to handle potential obstacles for this solution.\n",
        "\"\"\""
      ],
      "metadata": {
        "id": "Pf_rnkKJ0TiC",
        "executionInfo": {
          "status": "ok",
          "timestamp": 1721233099769,
          "user_tz": 300,
          "elapsed": 2,
          "user": {
            "displayName": "",
            "userId": ""
          }
        }
      },
      "execution_count": 41,
      "outputs": []
    },
    {
      "cell_type": "code",
      "source": [
        "response= lccp_llm(prompt=ranking_template,echo=False,temperature=0.5,top_p=.80,frequency_penalty=0,max_tokens=1500)"
      ],
      "metadata": {
        "id": "K0xZE6BV02ap",
        "colab": {
          "base_uri": "https://localhost:8080/"
        },
        "outputId": "ddd142a5-deb3-4c9e-d6c2-a21d85276d0d",
        "executionInfo": {
          "status": "ok",
          "timestamp": 1721233189152,
          "user_tz": 300,
          "elapsed": 89385,
          "user": {
            "displayName": "",
            "userId": ""
          }
        }
      },
      "execution_count": 42,
      "outputs": [
        {
          "output_type": "stream",
          "name": "stderr",
          "text": [
            "Llama.generate: prefix-match hit\n",
            "\n",
            "llama_print_timings:        load time =   90407.77 ms\n",
            "llama_print_timings:      sample time =     114.96 ms /   196 runs   (    0.59 ms per token,  1704.93 tokens per second)\n",
            "llama_print_timings: prompt eval time =    8928.47 ms /    52 tokens (  171.70 ms per token,     5.82 tokens per second)\n",
            "llama_print_timings:        eval time =   80057.82 ms /   195 runs   (  410.55 ms per token,     2.44 tokens per second)\n",
            "llama_print_timings:       total time =   89318.55 ms /   247 tokens\n"
          ]
        }
      ]
    },
    {
      "cell_type": "markdown",
      "source": [
        "### Final Response with Tree-of-thought"
      ],
      "metadata": {
        "id": "4gYBXgxz3RaS"
      }
    },
    {
      "cell_type": "code",
      "source": [
        "final_tree_reaponse=(response[\"choices\"][0][\"text\"])\n",
        "final_tree_reaponse"
      ],
      "metadata": {
        "colab": {
          "base_uri": "https://localhost:8080/",
          "height": 143
        },
        "id": "11yWP9KI3LGj",
        "outputId": "1d0135dd-e01e-46ab-afe5-bc62b4097128",
        "executionInfo": {
          "status": "ok",
          "timestamp": 1721233189152,
          "user_tz": 300,
          "elapsed": 5,
          "user": {
            "displayName": "",
            "userId": ""
          }
        }
      },
      "execution_count": 43,
      "outputs": [
        {
          "output_type": "execute_result",
          "data": {
            "text/plain": [
              "'\\nSolution 1: {solution 1}\\nStrengths:\\nWeaknesses:\\nOpportunities:\\nThreats:\\nImplementation Strategies:\\nPotential Obstacles:\\n\\nSolution 2: {solution 2}\\nStrengths:\\nWeaknesses:\\nOpportunities:\\nThreats:\\nImplementation Strategies:\\nPotential Obstacles:\\n\\nSolution 3: {solution 3}\\nStrengths:\\nWeaknesses:\\nOpportunities:\\nThreats:\\nImplementation Strategies:\\nPotential Obstacles:\\n\\nPlease provide your evaluation of the solutions and rank them based on their feasibility, practicality, and potential impact. Also, please present any additional information or insights that may be relevant to the decision-making process.'"
            ],
            "application/vnd.google.colaboratory.intrinsic+json": {
              "type": "string"
            }
          },
          "metadata": {},
          "execution_count": 43
        }
      ]
    },
    {
      "cell_type": "markdown",
      "source": [
        "## Rephrase & Respond\n",
        "- When generating a response, the model can create multiple possible outputs, each considered a \"choice.\" The most suitable choice is then selected to be presented to the user."
      ],
      "metadata": {
        "id": "HuSUW-iu8ICM"
      }
    },
    {
      "cell_type": "code",
      "source": [
        "rephase_respond_template=\"\"\"\n",
        "context:\n",
        "{context}\n",
        "===\n",
        "Question:\n",
        "{question}\n",
        "\n",
        "\n",
        "Observe the context presented above, rephrase and expand the above question to help you do better answering.\n",
        "Maintain all the information in the original question.\n",
        "Please note that you only have to rephrase the question, do not mention the context.\n",
        "The context is only presented for your reference.\n",
        "\n",
        "Present your answer in the following format:\n",
        "Rephrased Question:\n",
        "<rephrased-question-here>\n",
        "\"\"\""
      ],
      "metadata": {
        "id": "p2Fx-sPk3kT1",
        "executionInfo": {
          "status": "ok",
          "timestamp": 1721233189152,
          "user_tz": 300,
          "elapsed": 4,
          "user": {
            "displayName": "",
            "userId": ""
          }
        }
      },
      "execution_count": 44,
      "outputs": []
    },
    {
      "cell_type": "markdown",
      "source": [
        "### when do Rephrase & Respond is use full ?\n",
        "- When the initial response might be confusing or not as clear as it could be, rephrasing helps to ensure the message is easily understood.\n",
        "- When the response needs to be more formal or polished, rephrasing can adjust the tone and structure accordingly.\n",
        "- When the original response is too complex or technical, rephrasing can make it more accessible to a broader audience."
      ],
      "metadata": {
        "id": "03ZoAqEx9NE-"
      }
    },
    {
      "cell_type": "code",
      "source": [
        "rephase_response_prompt= llama_prompt_template.format(\n",
        "    system_message=system_message,\n",
        "    user_message= rephase_respond_template.format(\n",
        "        context=AXA_2000_context,\n",
        "        question=actual_question\n",
        "    )\n",
        ")"
      ],
      "metadata": {
        "id": "XSpGoL1R9DYf",
        "executionInfo": {
          "status": "ok",
          "timestamp": 1721233189152,
          "user_tz": 300,
          "elapsed": 3,
          "user": {
            "displayName": "",
            "userId": ""
          }
        }
      },
      "execution_count": 45,
      "outputs": []
    },
    {
      "cell_type": "code",
      "source": [
        "rephase_response_prompt"
      ],
      "metadata": {
        "colab": {
          "base_uri": "https://localhost:8080/",
          "height": 214
        },
        "id": "Z9UReG1AQhOD",
        "outputId": "9dc99c02-7a66-4299-dbaa-7a582bda2445",
        "executionInfo": {
          "status": "ok",
          "timestamp": 1721233189152,
          "user_tz": 300,
          "elapsed": 3,
          "user": {
            "displayName": "",
            "userId": ""
          }
        }
      },
      "execution_count": 46,
      "outputs": [
        {
          "output_type": "execute_result",
          "data": {
            "text/plain": [
              "'[/s][INS]<<SYS>>\\nYou are an assistance you are answer a quary on a finacial information\\nDonot reapeat the question only answer the question presented by the user\\n<</SYS>>\\n\\ncontext:\\n\\nAs soon as he takes office, Henri de Castries chooses to sell off the US investment bank Donaldson, Lufkin & Jenrette (DLJ) and target operational excellence for the Group’s core business areas (insurance and asset management).\\n\\nThe Group organizes itself to weather this storm: rolling out a plan to reduce spending, turning around its technical results and further strengthening its risk management, with the creation of Group Risk Management which objective is to analyze the Group’s risk exposure and appetite with a more in-depth approach and to prepare for future new regulations (Solvency 2).\\n\\nIn 2006, the economic environment is positive again. AXA returns to profitable growth, acquires the Swiss firm Winterthur and starts investing in emerging markets.\\n\\nWhen the subprime financial crisis breaks out in summer 2007, AXA has learned the lessons from 2001. Thanks to its efficient internal risk management system (GRM), the Group is affected, but shows its resilience, without public bailouts.\\n\\nIn this volatile environment, AXA remains convinced of the importance of its long-term commitments to its customers and society in general. In line with this spirit, AXA launches the AXA Research Fund to improve the understanding and prevention of major risks around the world. The AXA Research Fund further enhances the wide range of initiatives in place across the Group, which is committed to taking action on what counts for communities. Created out of the belief that science has a key role to play in meeting society’s major challenges, AXA sets out its commitment to help drive collective progress by supporting research projects focused on health, the environment, new technologies and socioeconomics.\\n\\n===\\nQuestion:\\nWhen the subprime financial crisis breaks out? What the company had learned?\\n\\n\\nObserve the context presented above, rephrase and expand the above question to help you do better answering.\\nMaintain all the information in the original question.\\nPlease note that you only have to rephrase the question, do not mention the context.\\nThe context is only presented for your reference.\\n\\nPresent your answer in the following format:\\nRephrased Question:\\n<rephrased-question-here>\\n[/INST]'"
            ],
            "application/vnd.google.colaboratory.intrinsic+json": {
              "type": "string"
            }
          },
          "metadata": {},
          "execution_count": 46
        }
      ]
    },
    {
      "cell_type": "code",
      "source": [
        "instial_response= lccp_llm(prompt=rephase_response_prompt,temperature=0.5,top_p=0.8,max_tokens=1500,echo=False)"
      ],
      "metadata": {
        "id": "tBed258y-tOz",
        "colab": {
          "base_uri": "https://localhost:8080/"
        },
        "outputId": "e96a56fc-0a19-4ae7-b6f5-86d15394c19f",
        "executionInfo": {
          "status": "ok",
          "timestamp": 1721233311023,
          "user_tz": 300,
          "elapsed": 121874,
          "user": {
            "displayName": "",
            "userId": ""
          }
        }
      },
      "execution_count": 47,
      "outputs": [
        {
          "output_type": "stream",
          "name": "stderr",
          "text": [
            "Llama.generate: prefix-match hit\n",
            "\n",
            "llama_print_timings:        load time =   90407.77 ms\n",
            "llama_print_timings:      sample time =      28.43 ms /    46 runs   (    0.62 ms per token,  1618.12 tokens per second)\n",
            "llama_print_timings: prompt eval time =  102466.94 ms /   572 tokens (  179.14 ms per token,     5.58 tokens per second)\n",
            "llama_print_timings:        eval time =   19148.84 ms /    45 runs   (  425.53 ms per token,     2.35 tokens per second)\n",
            "llama_print_timings:       total time =  121684.87 ms /   617 tokens\n"
          ]
        }
      ]
    },
    {
      "cell_type": "code",
      "source": [
        "rephrased_question = instial_response[\"choices\"][0][\"text\"].strip()"
      ],
      "metadata": {
        "id": "yghnnmc4-tMd",
        "executionInfo": {
          "status": "ok",
          "timestamp": 1721233311024,
          "user_tz": 300,
          "elapsed": 9,
          "user": {
            "displayName": "",
            "userId": ""
          }
        }
      },
      "execution_count": 48,
      "outputs": []
    },
    {
      "cell_type": "code",
      "source": [
        "print(rephrased_question)"
      ],
      "metadata": {
        "id": "ZdnN8c5l-tJ2",
        "colab": {
          "base_uri": "https://localhost:8080/"
        },
        "outputId": "41acf6f8-06e7-41a4-9869-c0fd8293c822",
        "executionInfo": {
          "status": "ok",
          "timestamp": 1721233311024,
          "user_tz": 300,
          "elapsed": 8,
          "user": {
            "displayName": "",
            "userId": ""
          }
        }
      },
      "execution_count": 49,
      "outputs": [
        {
          "output_type": "stream",
          "name": "stdout",
          "text": [
            "Rephrased Question: What lessons did AXA learn from the subprime financial crisis in 2007, and how did these lessons help the company navigate the crisis without public bailouts?\n"
          ]
        }
      ]
    },
    {
      "cell_type": "code",
      "source": [
        "rephrase_marker = rephrased_question.find('Rephrased Question:')"
      ],
      "metadata": {
        "id": "vNpjIHHs-tGu",
        "executionInfo": {
          "status": "ok",
          "timestamp": 1721233311024,
          "user_tz": 300,
          "elapsed": 7,
          "user": {
            "displayName": "",
            "userId": ""
          }
        }
      },
      "execution_count": 50,
      "outputs": []
    },
    {
      "cell_type": "code",
      "source": [
        "print(rephrased_question[rephrase_marker+19:])"
      ],
      "metadata": {
        "id": "PphCgVNY-tBQ",
        "colab": {
          "base_uri": "https://localhost:8080/"
        },
        "outputId": "e811ac78-d2d0-45c2-f3e2-d77cb2e3b8b1",
        "executionInfo": {
          "status": "ok",
          "timestamp": 1721233311024,
          "user_tz": 300,
          "elapsed": 7,
          "user": {
            "displayName": "",
            "userId": ""
          }
        }
      },
      "execution_count": 51,
      "outputs": [
        {
          "output_type": "stream",
          "name": "stdout",
          "text": [
            " What lessons did AXA learn from the subprime financial crisis in 2007, and how did these lessons help the company navigate the crisis without public bailouts?\n"
          ]
        }
      ]
    },
    {
      "cell_type": "code",
      "source": [
        "rephrased_factual_question = rephrased_question[rephrase_marker+19:]"
      ],
      "metadata": {
        "id": "_pA9gRp0-s-Z",
        "executionInfo": {
          "status": "ok",
          "timestamp": 1721233311024,
          "user_tz": 300,
          "elapsed": 6,
          "user": {
            "displayName": "",
            "userId": ""
          }
        }
      },
      "execution_count": 52,
      "outputs": []
    },
    {
      "cell_type": "code",
      "source": [
        "response_template = \"\"\"\n",
        "Context:\n",
        "{context}\n",
        "===\n",
        "\n",
        "Original Question:\n",
        "{question}\n",
        "\n",
        "Rephrased Question:\n",
        "{rephrased_question}\n",
        "\n",
        "Given the above context, use your answer for the rephrased question presented above to answer the original question.\n",
        "Present your final answer in the following format.\n",
        "Final Answer: <your-final-answer>\n",
        "\"\"\""
      ],
      "metadata": {
        "id": "naexFyWF-s7A",
        "executionInfo": {
          "status": "ok",
          "timestamp": 1721233311024,
          "user_tz": 300,
          "elapsed": 6,
          "user": {
            "displayName": "",
            "userId": ""
          }
        }
      },
      "execution_count": 53,
      "outputs": []
    },
    {
      "cell_type": "code",
      "source": [
        "response_prompt = llama_prompt_template.format(\n",
        "    system_message=system_message,\n",
        "    user_message=response_template.format(\n",
        "        context=AXA_2000_context,\n",
        "        question=actual_question,\n",
        "        rephrased_question=rephrased_factual_question\n",
        "    )\n",
        ")"
      ],
      "metadata": {
        "id": "_UXfPbXpAPh9",
        "executionInfo": {
          "status": "ok",
          "timestamp": 1721233311024,
          "user_tz": 300,
          "elapsed": 5,
          "user": {
            "displayName": "",
            "userId": ""
          }
        }
      },
      "execution_count": 54,
      "outputs": []
    },
    {
      "cell_type": "code",
      "source": [
        "print(response_prompt)"
      ],
      "metadata": {
        "id": "2Tw9csFnAPfX",
        "colab": {
          "base_uri": "https://localhost:8080/"
        },
        "outputId": "5e0f37e3-9f93-4def-879e-24e368118d78",
        "executionInfo": {
          "status": "ok",
          "timestamp": 1721233311024,
          "user_tz": 300,
          "elapsed": 5,
          "user": {
            "displayName": "",
            "userId": ""
          }
        }
      },
      "execution_count": 55,
      "outputs": [
        {
          "output_type": "stream",
          "name": "stdout",
          "text": [
            "[/s][INS]<<SYS>>\n",
            "You are an assistance you are answer a quary on a finacial information\n",
            "Donot reapeat the question only answer the question presented by the user\n",
            "<</SYS>>\n",
            "\n",
            "Context:\n",
            "\n",
            "As soon as he takes office, Henri de Castries chooses to sell off the US investment bank Donaldson, Lufkin & Jenrette (DLJ) and target operational excellence for the Group’s core business areas (insurance and asset management).\n",
            "\n",
            "The Group organizes itself to weather this storm: rolling out a plan to reduce spending, turning around its technical results and further strengthening its risk management, with the creation of Group Risk Management which objective is to analyze the Group’s risk exposure and appetite with a more in-depth approach and to prepare for future new regulations (Solvency 2).\n",
            "\n",
            "In 2006, the economic environment is positive again. AXA returns to profitable growth, acquires the Swiss firm Winterthur and starts investing in emerging markets.\n",
            "\n",
            "When the subprime financial crisis breaks out in summer 2007, AXA has learned the lessons from 2001. Thanks to its efficient internal risk management system (GRM), the Group is affected, but shows its resilience, without public bailouts.\n",
            "\n",
            "In this volatile environment, AXA remains convinced of the importance of its long-term commitments to its customers and society in general. In line with this spirit, AXA launches the AXA Research Fund to improve the understanding and prevention of major risks around the world. The AXA Research Fund further enhances the wide range of initiatives in place across the Group, which is committed to taking action on what counts for communities. Created out of the belief that science has a key role to play in meeting society’s major challenges, AXA sets out its commitment to help drive collective progress by supporting research projects focused on health, the environment, new technologies and socioeconomics.\n",
            "\n",
            "===\n",
            "\n",
            "Original Question:\n",
            "When the subprime financial crisis breaks out? What the company had learned?\n",
            "\n",
            "Rephrased Question:\n",
            " What lessons did AXA learn from the subprime financial crisis in 2007, and how did these lessons help the company navigate the crisis without public bailouts?\n",
            "\n",
            "Given the above context, use your answer for the rephrased question presented above to answer the original question.\n",
            "Present your final answer in the following format.\n",
            "Final Answer: <your-final-answer>\n",
            "[/INST]\n"
          ]
        }
      ]
    },
    {
      "cell_type": "code",
      "source": [
        "response_llama=lccp_llm(prompt=response_prompt,temperature=0.5,top_p=0.80,max_tokens=1500,echo=False)\n"
      ],
      "metadata": {
        "id": "wmYBUEzxAPcf",
        "colab": {
          "base_uri": "https://localhost:8080/"
        },
        "outputId": "efdc8b72-df1a-4eb7-9305-1c188aca2345",
        "executionInfo": {
          "status": "ok",
          "timestamp": 1721233460610,
          "user_tz": 300,
          "elapsed": 149590,
          "user": {
            "displayName": "",
            "userId": ""
          }
        }
      },
      "execution_count": 56,
      "outputs": [
        {
          "output_type": "stream",
          "name": "stderr",
          "text": [
            "Llama.generate: prefix-match hit\n",
            "\n",
            "llama_print_timings:        load time =   90407.77 ms\n",
            "llama_print_timings:      sample time =      81.35 ms /   118 runs   (    0.69 ms per token,  1450.47 tokens per second)\n",
            "llama_print_timings: prompt eval time =   96798.60 ms /   522 tokens (  185.44 ms per token,     5.39 tokens per second)\n",
            "llama_print_timings:        eval time =   52545.83 ms /   117 runs   (  449.11 ms per token,     2.23 tokens per second)\n",
            "llama_print_timings:       total time =  149559.78 ms /   639 tokens\n"
          ]
        }
      ]
    },
    {
      "cell_type": "code",
      "source": [
        "print(response_llama[\"choices\"][0][\"text\"])"
      ],
      "metadata": {
        "id": "tRcL8086APZ6",
        "colab": {
          "base_uri": "https://localhost:8080/"
        },
        "outputId": "2b14f3d0-5c60-45f2-8fa5-f2527ed1fed9",
        "executionInfo": {
          "status": "ok",
          "timestamp": 1721233460610,
          "user_tz": 300,
          "elapsed": 9,
          "user": {
            "displayName": "",
            "userId": ""
          }
        }
      },
      "execution_count": 57,
      "outputs": [
        {
          "output_type": "stream",
          "name": "stdout",
          "text": [
            "  Final Answer: In 2007, AXA learned the importance of efficient internal risk management systems (GRM) and resilience in the face of financial crises. These lessons were crucial in navigating the subprime financial crisis without public bailouts. By implementing a comprehensive risk management strategy, AXA was able to identify potential risks and take proactive measures to mitigate them. This allowed the company to weather the storm more effectively than in 2001, when it was not as prepared for the crisis.\n"
          ]
        }
      ]
    },
    {
      "cell_type": "markdown",
      "source": [
        "## Final Responce for Rephrase & Respond"
      ],
      "metadata": {
        "id": "U_1zl3nHOORQ"
      }
    },
    {
      "cell_type": "code",
      "source": [
        "rephase_response_llm=response_llama[\"choices\"][0][\"text\"].strip()\n",
        "rephase_response_llm"
      ],
      "metadata": {
        "id": "Uu2xpjjFAPXb",
        "colab": {
          "base_uri": "https://localhost:8080/",
          "height": 125
        },
        "outputId": "0591e828-58a8-4a5c-f6f8-f98923450a08",
        "executionInfo": {
          "status": "ok",
          "timestamp": 1721233460610,
          "user_tz": 300,
          "elapsed": 4,
          "user": {
            "displayName": "",
            "userId": ""
          }
        }
      },
      "execution_count": 58,
      "outputs": [
        {
          "output_type": "execute_result",
          "data": {
            "text/plain": [
              "'Final Answer: In 2007, AXA learned the importance of efficient internal risk management systems (GRM) and resilience in the face of financial crises. These lessons were crucial in navigating the subprime financial crisis without public bailouts. By implementing a comprehensive risk management strategy, AXA was able to identify potential risks and take proactive measures to mitigate them. This allowed the company to weather the storm more effectively than in 2001, when it was not as prepared for the crisis.'"
            ],
            "application/vnd.google.colaboratory.intrinsic+json": {
              "type": "string"
            }
          },
          "metadata": {},
          "execution_count": 58
        }
      ]
    },
    {
      "cell_type": "markdown",
      "source": [
        "## cove (chain of verification)\n",
        "- The cove will generate the multiple question and verify the the with the original question\n",
        "- It take 4 steps"
      ],
      "metadata": {
        "id": "PHeHktiUbmQQ"
      }
    },
    {
      "cell_type": "markdown",
      "source": [
        "### Step:1 Baseline"
      ],
      "metadata": {
        "id": "JBYC_cOQeemd"
      }
    },
    {
      "cell_type": "code",
      "source": [
        "## Base line\n",
        "Baseline_prompt=\"\"\"\n",
        "content:\n",
        "{content}\n",
        "Question:\n",
        "{question}\n",
        "based on the content generate the question \"\"\""
      ],
      "metadata": {
        "id": "H_Bi32TZbn-s",
        "executionInfo": {
          "status": "ok",
          "timestamp": 1721233461254,
          "user_tz": 300,
          "elapsed": 2,
          "user": {
            "displayName": "",
            "userId": ""
          }
        }
      },
      "execution_count": 59,
      "outputs": []
    },
    {
      "cell_type": "code",
      "source": [
        "actual_question_1=\"what year financial crisis is it 2001 or 2007?\""
      ],
      "metadata": {
        "id": "CBni26qTdGVh",
        "executionInfo": {
          "status": "ok",
          "timestamp": 1721233461254,
          "user_tz": 300,
          "elapsed": 1,
          "user": {
            "displayName": "",
            "userId": ""
          }
        }
      },
      "execution_count": 60,
      "outputs": []
    },
    {
      "cell_type": "code",
      "source": [
        "Baseline= llama_prompt_template.format(system_message=system_message,\n",
        "                                       user_message=Baseline_prompt.format(\n",
        "                                         content=AXA_2000_context,\n",
        "                                         question= actual_question_1\n",
        "                                       ))"
      ],
      "metadata": {
        "id": "Y-BA8ls5bn70",
        "executionInfo": {
          "status": "ok",
          "timestamp": 1721233461254,
          "user_tz": 300,
          "elapsed": 1,
          "user": {
            "displayName": "",
            "userId": ""
          }
        }
      },
      "execution_count": 61,
      "outputs": []
    },
    {
      "cell_type": "code",
      "source": [
        "print(Baseline)"
      ],
      "metadata": {
        "colab": {
          "base_uri": "https://localhost:8080/"
        },
        "id": "CGLW1m4Pbn5e",
        "executionInfo": {
          "status": "ok",
          "timestamp": 1721233461255,
          "user_tz": 300,
          "elapsed": 2,
          "user": {
            "displayName": "",
            "userId": ""
          }
        },
        "outputId": "080bed0d-72dd-402f-f73c-a27ac6af6189"
      },
      "execution_count": 62,
      "outputs": [
        {
          "output_type": "stream",
          "name": "stdout",
          "text": [
            "[/s][INS]<<SYS>>\n",
            "You are an assistance you are answer a quary on a finacial information\n",
            "Donot reapeat the question only answer the question presented by the user\n",
            "<</SYS>>\n",
            "\n",
            "content:\n",
            "\n",
            "As soon as he takes office, Henri de Castries chooses to sell off the US investment bank Donaldson, Lufkin & Jenrette (DLJ) and target operational excellence for the Group’s core business areas (insurance and asset management).\n",
            "\n",
            "The Group organizes itself to weather this storm: rolling out a plan to reduce spending, turning around its technical results and further strengthening its risk management, with the creation of Group Risk Management which objective is to analyze the Group’s risk exposure and appetite with a more in-depth approach and to prepare for future new regulations (Solvency 2).\n",
            "\n",
            "In 2006, the economic environment is positive again. AXA returns to profitable growth, acquires the Swiss firm Winterthur and starts investing in emerging markets.\n",
            "\n",
            "When the subprime financial crisis breaks out in summer 2007, AXA has learned the lessons from 2001. Thanks to its efficient internal risk management system (GRM), the Group is affected, but shows its resilience, without public bailouts.\n",
            "\n",
            "In this volatile environment, AXA remains convinced of the importance of its long-term commitments to its customers and society in general. In line with this spirit, AXA launches the AXA Research Fund to improve the understanding and prevention of major risks around the world. The AXA Research Fund further enhances the wide range of initiatives in place across the Group, which is committed to taking action on what counts for communities. Created out of the belief that science has a key role to play in meeting society’s major challenges, AXA sets out its commitment to help drive collective progress by supporting research projects focused on health, the environment, new technologies and socioeconomics.\n",
            "\n",
            "Question:\n",
            "what year financial crisis is it 2001 or 2007?\n",
            "based on the content generate the question [/INST]\n"
          ]
        }
      ]
    },
    {
      "cell_type": "code",
      "source": [
        "baseline_llm=lccp_llm(prompt=base_model,max_tokens=1500,temperature=0.8,top_p=0.8,echo=False)"
      ],
      "metadata": {
        "colab": {
          "base_uri": "https://localhost:8080/"
        },
        "id": "qFXnz1z0bn23",
        "executionInfo": {
          "status": "ok",
          "timestamp": 1721233465311,
          "user_tz": 300,
          "elapsed": 4058,
          "user": {
            "displayName": "",
            "userId": ""
          }
        },
        "outputId": "8a6f8359-dd5f-4d24-bc6c-0a1346703a50"
      },
      "execution_count": 63,
      "outputs": [
        {
          "output_type": "stream",
          "name": "stderr",
          "text": [
            "Llama.generate: prefix-match hit\n",
            "\n",
            "llama_print_timings:        load time =   90407.77 ms\n",
            "llama_print_timings:      sample time =       1.57 ms /     3 runs   (    0.52 ms per token,  1914.49 tokens per second)\n",
            "llama_print_timings: prompt eval time =    3250.48 ms /    17 tokens (  191.20 ms per token,     5.23 tokens per second)\n",
            "llama_print_timings:        eval time =     780.72 ms /     2 runs   (  390.36 ms per token,     2.56 tokens per second)\n",
            "llama_print_timings:       total time =    4037.62 ms /    19 tokens\n"
          ]
        }
      ]
    },
    {
      "cell_type": "code",
      "source": [
        "print(baseline_llm[\"choices\"][0][\"text\"])"
      ],
      "metadata": {
        "colab": {
          "base_uri": "https://localhost:8080/"
        },
        "id": "K7ubzvITbn0R",
        "executionInfo": {
          "status": "ok",
          "timestamp": 1721233465311,
          "user_tz": 300,
          "elapsed": 2,
          "user": {
            "displayName": "",
            "userId": ""
          }
        },
        "outputId": "6ed717ef-c414-468f-e4d1-0cf4f1752d07"
      },
      "execution_count": 64,
      "outputs": [
        {
          "output_type": "stream",
          "name": "stdout",
          "text": [
            "\n",
            "\n",
            "\n"
          ]
        }
      ]
    },
    {
      "cell_type": "code",
      "source": [
        "baseline_response=baseline_llm[\"choices\"][0][\"text\"].strip()\n",
        "baseline_response"
      ],
      "metadata": {
        "id": "aCnI96oobnxZ",
        "executionInfo": {
          "status": "ok",
          "timestamp": 1721233465311,
          "user_tz": 300,
          "elapsed": 1,
          "user": {
            "displayName": "",
            "userId": ""
          }
        }
      },
      "execution_count": 65,
      "outputs": []
    },
    {
      "cell_type": "markdown",
      "source": [
        "### Step:2 Verification"
      ],
      "metadata": {
        "id": "D1_XF3OxeX8b"
      }
    },
    {
      "cell_type": "code",
      "source": [
        "verifications_prompt_template = \"\"\"\n",
        "Your task is to create verification questions based on the below original question and the baseline response.\n",
        "The verification questions are meant for verifying the factual acuracy in the baseline response.\n",
        "\n",
        "Context:\n",
        "{context}\n",
        "===\n",
        "\n",
        "Question:\n",
        "Use the above context to answer the following question: {question}\n",
        "\n",
        "Baseline Response:\n",
        "{baseline_response}\n",
        "\n",
        "Respond with your verification questions in a JSON format with the following headers.\n",
        "```JSON\n",
        "question1: <verification-question-1>\n",
        "question2: <veriification-question-2>\n",
        "and so on.\n",
        "```\n",
        "Do not provide answers to these verification questions. Respond only with the JSON.\n",
        "\"\"\""
      ],
      "metadata": {
        "id": "Pjl7WkRbbns-",
        "executionInfo": {
          "status": "ok",
          "timestamp": 1721233465424,
          "user_tz": 300,
          "elapsed": 114,
          "user": {
            "displayName": "",
            "userId": ""
          }
        }
      },
      "execution_count": 66,
      "outputs": []
    },
    {
      "cell_type": "code",
      "source": [
        "verification_prompt= llama_prompt_template.format(system_message=system_message,\n",
        "                                                  user_message=verifications_prompt_template.format(\n",
        "                                                      context=AXA_2000_context,\n",
        "                                                      question=actual_question_1,\n",
        "                                                      baseline_response=baseline_response,\n",
        "                                                  )\n",
        "                                                  )"
      ],
      "metadata": {
        "id": "N9WEiUGcbnp2",
        "executionInfo": {
          "status": "ok",
          "timestamp": 1721233555218,
          "user_tz": 300,
          "elapsed": 112,
          "user": {
            "displayName": "",
            "userId": ""
          }
        }
      },
      "execution_count": 69,
      "outputs": []
    },
    {
      "cell_type": "code",
      "source": [
        "print(verification_prompt)"
      ],
      "metadata": {
        "colab": {
          "base_uri": "https://localhost:8080/"
        },
        "id": "grM-6902bGQa",
        "executionInfo": {
          "status": "ok",
          "timestamp": 1721233558634,
          "user_tz": 300,
          "elapsed": 99,
          "user": {
            "displayName": "",
            "userId": ""
          }
        },
        "outputId": "f5cf93f9-6fa9-4994-8638-ec9f6854ec89"
      },
      "execution_count": 70,
      "outputs": [
        {
          "output_type": "stream",
          "name": "stdout",
          "text": [
            "[/s][INS]<<SYS>>\n",
            "You are an assistance you are answer a quary on a finacial information\n",
            "Donot reapeat the question only answer the question presented by the user\n",
            "<</SYS>>\n",
            "\n",
            "Your task is to create verification questions based on the below original question and the baseline response.\n",
            "The verification questions are meant for verifying the factual acuracy in the baseline response.\n",
            "\n",
            "Context:\n",
            "\n",
            "As soon as he takes office, Henri de Castries chooses to sell off the US investment bank Donaldson, Lufkin & Jenrette (DLJ) and target operational excellence for the Group’s core business areas (insurance and asset management).\n",
            "\n",
            "The Group organizes itself to weather this storm: rolling out a plan to reduce spending, turning around its technical results and further strengthening its risk management, with the creation of Group Risk Management which objective is to analyze the Group’s risk exposure and appetite with a more in-depth approach and to prepare for future new regulations (Solvency 2).\n",
            "\n",
            "In 2006, the economic environment is positive again. AXA returns to profitable growth, acquires the Swiss firm Winterthur and starts investing in emerging markets.\n",
            "\n",
            "When the subprime financial crisis breaks out in summer 2007, AXA has learned the lessons from 2001. Thanks to its efficient internal risk management system (GRM), the Group is affected, but shows its resilience, without public bailouts.\n",
            "\n",
            "In this volatile environment, AXA remains convinced of the importance of its long-term commitments to its customers and society in general. In line with this spirit, AXA launches the AXA Research Fund to improve the understanding and prevention of major risks around the world. The AXA Research Fund further enhances the wide range of initiatives in place across the Group, which is committed to taking action on what counts for communities. Created out of the belief that science has a key role to play in meeting society’s major challenges, AXA sets out its commitment to help drive collective progress by supporting research projects focused on health, the environment, new technologies and socioeconomics.\n",
            "\n",
            "===\n",
            "\n",
            "Question:\n",
            "Use the above context to answer the following question: what year financial crisis is it 2001 or 2007?\n",
            "\n",
            "Baseline Response:\n",
            "\n",
            "\n",
            "Respond with your verification questions in a JSON format with the following headers.\n",
            "```JSON\n",
            "question1: <verification-question-1>\n",
            "question2: <veriification-question-2>\n",
            "and so on.\n",
            "```\n",
            "Do not provide answers to these verification questions. Respond only with the JSON.\n",
            "[/INST]\n"
          ]
        }
      ]
    },
    {
      "cell_type": "code",
      "source": [
        "verification_prompt_llm =lccp_llm(prompt=verification_prompt,temperature=0.8,max_tokens=1500,echo=False,top_p=0.80)"
      ],
      "metadata": {
        "colab": {
          "base_uri": "https://localhost:8080/"
        },
        "id": "vfbQQGasfyQp",
        "executionInfo": {
          "status": "ok",
          "timestamp": 1721233738442,
          "user_tz": 300,
          "elapsed": 178585,
          "user": {
            "displayName": "",
            "userId": ""
          }
        },
        "outputId": "8136c437-3713-4821-d076-14075532ab8a"
      },
      "execution_count": 71,
      "outputs": [
        {
          "output_type": "stream",
          "name": "stderr",
          "text": [
            "Llama.generate: prefix-match hit\n",
            "\n",
            "llama_print_timings:        load time =   90407.77 ms\n",
            "llama_print_timings:      sample time =      81.96 ms /   130 runs   (    0.63 ms per token,  1586.20 tokens per second)\n",
            "llama_print_timings: prompt eval time =  122295.76 ms /   614 tokens (  199.18 ms per token,     5.02 tokens per second)\n",
            "llama_print_timings:        eval time =   55978.72 ms /   129 runs   (  433.94 ms per token,     2.30 tokens per second)\n",
            "llama_print_timings:       total time =  178491.58 ms /   743 tokens\n"
          ]
        }
      ]
    },
    {
      "cell_type": "code",
      "source": [
        "print(verification_prompt_llm[\"choices\"][0][\"text\"].strip())"
      ],
      "metadata": {
        "colab": {
          "base_uri": "https://localhost:8080/"
        },
        "id": "vh6QC2pJgaTJ",
        "executionInfo": {
          "status": "ok",
          "timestamp": 1721233738442,
          "user_tz": 300,
          "elapsed": 21,
          "user": {
            "displayName": "",
            "userId": ""
          }
        },
        "outputId": "3446fba0-77c6-4e34-8f49-40b33ac35c47"
      },
      "execution_count": 72,
      "outputs": [
        {
          "output_type": "stream",
          "name": "stdout",
          "text": [
            "{\n",
            "\"question1\": \"What was the name of the US investment bank that Henri de Castries chose to sell off when he took office?\",\n",
            "\"question2\": \"What was the objective of creating Group Risk Management within AXA?\",\n",
            "\"question3\": \"In which year did AXA return to profitable growth after the economic environment improved?\",\n",
            "\"question4\": \"What was the name of the Swiss firm that AXA acquired in 2006?\",\n",
            "\"question5\": \"What was the purpose of launching the AXA Research Fund?\"\n",
            "}\n"
          ]
        }
      ]
    },
    {
      "cell_type": "code",
      "source": [
        "verification_response=verification_prompt_llm[\"choices\"][0][\"text\"].strip()\n",
        "verification_response"
      ],
      "metadata": {
        "colab": {
          "base_uri": "https://localhost:8080/",
          "height": 125
        },
        "id": "Qh8hK__Tgg99",
        "executionInfo": {
          "status": "ok",
          "timestamp": 1721233738442,
          "user_tz": 300,
          "elapsed": 5,
          "user": {
            "displayName": "",
            "userId": ""
          }
        },
        "outputId": "9c815f80-44e3-4168-f769-538741035a54"
      },
      "execution_count": 73,
      "outputs": [
        {
          "output_type": "execute_result",
          "data": {
            "text/plain": [
              "'{\\n\"question1\": \"What was the name of the US investment bank that Henri de Castries chose to sell off when he took office?\",\\n\"question2\": \"What was the objective of creating Group Risk Management within AXA?\",\\n\"question3\": \"In which year did AXA return to profitable growth after the economic environment improved?\",\\n\"question4\": \"What was the name of the Swiss firm that AXA acquired in 2006?\",\\n\"question5\": \"What was the purpose of launching the AXA Research Fund?\"\\n}'"
            ],
            "application/vnd.google.colaboratory.intrinsic+json": {
              "type": "string"
            }
          },
          "metadata": {},
          "execution_count": 73
        }
      ]
    },
    {
      "cell_type": "markdown",
      "source": [
        "### Step:3 verifying verification response"
      ],
      "metadata": {
        "id": "6sZfEaohhcVL"
      }
    },
    {
      "cell_type": "code",
      "source": [
        "import json\n",
        "verification_question_beginning=verification_response.find(\"{\")\n",
        "json.loads(verification_response[verification_question_beginning:])"
      ],
      "metadata": {
        "colab": {
          "base_uri": "https://localhost:8080/"
        },
        "id": "Upl6wFidhEKZ",
        "executionInfo": {
          "status": "ok",
          "timestamp": 1721233986027,
          "user_tz": 300,
          "elapsed": 128,
          "user": {
            "displayName": "",
            "userId": ""
          }
        },
        "outputId": "cfdd0e28-b92f-4016-e6f5-59fefef83980"
      },
      "execution_count": 78,
      "outputs": [
        {
          "output_type": "execute_result",
          "data": {
            "text/plain": [
              "{'question1': 'What was the name of the US investment bank that Henri de Castries chose to sell off when he took office?',\n",
              " 'question2': 'What was the objective of creating Group Risk Management within AXA?',\n",
              " 'question3': 'In which year did AXA return to profitable growth after the economic environment improved?',\n",
              " 'question4': 'What was the name of the Swiss firm that AXA acquired in 2006?',\n",
              " 'question5': 'What was the purpose of launching the AXA Research Fund?'}"
            ]
          },
          "metadata": {},
          "execution_count": 78
        }
      ]
    },
    {
      "cell_type": "code",
      "source": [
        "verification_factual_questions_dict = json.loads(verification_response[verification_question_beginning:])"
      ],
      "metadata": {
        "id": "6wxsIyZ7iPfg",
        "executionInfo": {
          "status": "ok",
          "timestamp": 1721234005876,
          "user_tz": 300,
          "elapsed": 107,
          "user": {
            "displayName": "",
            "userId": ""
          }
        }
      },
      "execution_count": 80,
      "outputs": []
    },
    {
      "cell_type": "code",
      "source": [
        "\n",
        "verification_factual_questions_dict.values()"
      ],
      "metadata": {
        "colab": {
          "base_uri": "https://localhost:8080/"
        },
        "id": "0LxiKaChinPF",
        "executionInfo": {
          "status": "ok",
          "timestamp": 1721234023911,
          "user_tz": 300,
          "elapsed": 119,
          "user": {
            "displayName": "",
            "userId": ""
          }
        },
        "outputId": "c6c153f8-692f-4a41-8775-df76b821b737"
      },
      "execution_count": 81,
      "outputs": [
        {
          "output_type": "execute_result",
          "data": {
            "text/plain": [
              "dict_values(['What was the name of the US investment bank that Henri de Castries chose to sell off when he took office?', 'What was the objective of creating Group Risk Management within AXA?', 'In which year did AXA return to profitable growth after the economic environment improved?', 'What was the name of the Swiss firm that AXA acquired in 2006?', 'What was the purpose of launching the AXA Research Fund?'])"
            ]
          },
          "metadata": {},
          "execution_count": 81
        }
      ]
    },
    {
      "cell_type": "code",
      "source": [
        "verification_responses = []\n",
        "verification_factual_questions_dict.values()"
      ],
      "metadata": {
        "colab": {
          "base_uri": "https://localhost:8080/"
        },
        "id": "tVLhoyrYiuRt",
        "executionInfo": {
          "status": "ok",
          "timestamp": 1721234201607,
          "user_tz": 300,
          "elapsed": 128,
          "user": {
            "displayName": "",
            "userId": ""
          }
        },
        "outputId": "68439cf6-8bdd-458c-a407-bb13a968e27d"
      },
      "execution_count": 84,
      "outputs": [
        {
          "output_type": "execute_result",
          "data": {
            "text/plain": [
              "dict_values(['What was the name of the US investment bank that Henri de Castries chose to sell off when he took office?', 'What was the objective of creating Group Risk Management within AXA?', 'In which year did AXA return to profitable growth after the economic environment improved?', 'What was the name of the Swiss firm that AXA acquired in 2006?', 'What was the purpose of launching the AXA Research Fund?'])"
            ]
          },
          "metadata": {},
          "execution_count": 84
        }
      ]
    },
    {
      "cell_type": "code",
      "source": [
        "verification_responses_template = \"\"\"Answer the following question correctly based on the context given below:\n",
        "Context:\n",
        "{context}\n",
        "===\n",
        "\n",
        "Question: {verification_question}\"\"\"\n"
      ],
      "metadata": {
        "id": "0AueOMQ2kOsY",
        "executionInfo": {
          "status": "ok",
          "timestamp": 1721234494757,
          "user_tz": 300,
          "elapsed": 126,
          "user": {
            "displayName": "",
            "userId": ""
          }
        }
      },
      "execution_count": 86,
      "outputs": []
    },
    {
      "cell_type": "code",
      "source": [
        "for verification_factual_questions in verification_factual_questions_dict.values():\n",
        "  verification_prompt_question= llama_prompt_template.format(system_message=system_message,\n",
        "                                                             user_message=verification_prompt.format(\n",
        "                                                               context= AXA_2000_context,\n",
        "                                                               verification_question=verification_factual_questions\n",
        "                                                             ))\n",
        "  verification_prompt_response=lccp_llm(prompt=verification_prompt_question,temperature=0.8,max_tokens=1500,echo=False,min_p=0.02)\n",
        "  verification_responses.append(verification_prompt_response[\"choices\"][0][\"text\"].strip())"
      ],
      "metadata": {
        "colab": {
          "base_uri": "https://localhost:8080/"
        },
        "id": "ehcB7FUKi_-K",
        "executionInfo": {
          "status": "ok",
          "timestamp": 1721235415242,
          "user_tz": 300,
          "elapsed": 322492,
          "user": {
            "displayName": "",
            "userId": ""
          }
        },
        "outputId": "db2beb7b-94d8-4f92-d650-253a044c84f2"
      },
      "execution_count": 90,
      "outputs": [
        {
          "output_type": "stream",
          "name": "stderr",
          "text": [
            "Llama.generate: prefix-match hit\n",
            "\n",
            "llama_print_timings:        load time =   90407.77 ms\n",
            "llama_print_timings:      sample time =      84.89 ms /   135 runs   (    0.63 ms per token,  1590.39 tokens per second)\n",
            "llama_print_timings: prompt eval time =       0.00 ms /     0 tokens (    -nan ms per token,     -nan tokens per second)\n",
            "llama_print_timings:        eval time =   58749.89 ms /   135 runs   (  435.18 ms per token,     2.30 tokens per second)\n",
            "llama_print_timings:       total time =   58984.93 ms /   135 tokens\n",
            "Llama.generate: prefix-match hit\n",
            "\n",
            "llama_print_timings:        load time =   90407.77 ms\n",
            "llama_print_timings:      sample time =      68.59 ms /   113 runs   (    0.61 ms per token,  1647.57 tokens per second)\n",
            "llama_print_timings: prompt eval time =       0.00 ms /     0 tokens (    -nan ms per token,     -nan tokens per second)\n",
            "llama_print_timings:        eval time =   48890.26 ms /   113 runs   (  432.66 ms per token,     2.31 tokens per second)\n",
            "llama_print_timings:       total time =   49069.72 ms /   113 tokens\n",
            "Llama.generate: prefix-match hit\n",
            "\n",
            "llama_print_timings:        load time =   90407.77 ms\n",
            "llama_print_timings:      sample time =     126.83 ms /   194 runs   (    0.65 ms per token,  1529.65 tokens per second)\n",
            "llama_print_timings: prompt eval time =       0.00 ms /     0 tokens (    -nan ms per token,     -nan tokens per second)\n",
            "llama_print_timings:        eval time =   84725.04 ms /   194 runs   (  436.73 ms per token,     2.29 tokens per second)\n",
            "llama_print_timings:       total time =   85080.85 ms /   194 tokens\n",
            "Llama.generate: prefix-match hit\n",
            "\n",
            "llama_print_timings:        load time =   90407.77 ms\n",
            "llama_print_timings:      sample time =      91.07 ms /   149 runs   (    0.61 ms per token,  1636.14 tokens per second)\n",
            "llama_print_timings: prompt eval time =       0.00 ms /     0 tokens (    -nan ms per token,     -nan tokens per second)\n",
            "llama_print_timings:        eval time =   64494.16 ms /   149 runs   (  432.85 ms per token,     2.31 tokens per second)\n",
            "llama_print_timings:       total time =   64743.37 ms /   149 tokens\n",
            "Llama.generate: prefix-match hit\n",
            "\n",
            "llama_print_timings:        load time =   90407.77 ms\n",
            "llama_print_timings:      sample time =      88.19 ms /   147 runs   (    0.60 ms per token,  1666.86 tokens per second)\n",
            "llama_print_timings: prompt eval time =       0.00 ms /     0 tokens (    -nan ms per token,     -nan tokens per second)\n",
            "llama_print_timings:        eval time =   64046.30 ms /   147 runs   (  435.69 ms per token,     2.30 tokens per second)\n",
            "llama_print_timings:       total time =   64289.14 ms /   147 tokens\n"
          ]
        }
      ]
    },
    {
      "cell_type": "code",
      "source": [
        "for q,a in zip(verification_factual_questions_dict.values(),verification_responses):\n",
        "  print(q)\n",
        "  print(a)"
      ],
      "metadata": {
        "colab": {
          "base_uri": "https://localhost:8080/"
        },
        "id": "XbpJgIXSk-FR",
        "executionInfo": {
          "status": "ok",
          "timestamp": 1721235415242,
          "user_tz": 300,
          "elapsed": 26,
          "user": {
            "displayName": "",
            "userId": ""
          }
        },
        "outputId": "1d7a71b4-56b1-450d-ac92-4940e803f5bc"
      },
      "execution_count": 91,
      "outputs": [
        {
          "output_type": "stream",
          "name": "stdout",
          "text": [
            "What was the name of the US investment bank that Henri de Castries chose to sell off when he took office?\n",
            "{\n",
            "\"question1\": \"Can you tell me more about the economic environment that led to AXA's decision to sell off Donaldson, Lufkin & Jenrette (DLJ) in 2001?\"\n",
            "\"question2\": \"What was the main objective of creating Group Risk Management within AXA in 2006?\"\n",
            "\"question3\": \"In what year did AXA return to profitable growth after the subprime financial crisis broke out in 2007?\"\n",
            "\"question4\": \"Can you elaborate on the AXA Research Fund and its focus areas?\"\n",
            "}\n",
            "What was the objective of creating Group Risk Management within AXA?\n",
            "{\n",
            "\"question1\": \"What was the name of the US investment bank that Henri de Castries chose to sell off when he took office?\",\n",
            "\"question2\": \"What was the objective of the new risk management department created by AXA in 2006?\",\n",
            "\"question3\": \"In which year did AXA launch the AXA Research Fund?\",\n",
            "\"question4\": \"What was the name of the Swiss firm that AXA acquired in 2006?\"\n",
            "}\n",
            "In which year did AXA return to profitable growth after the economic environment improved?\n",
            "{\n",
            "\"question1\": \"Can you elaborate on the reasons behind Henri de Castries' decision to sell off the US investment bank Donaldson, Lufkin & Jenrette (DLJ) in 2001?\"\n",
            "\"question2\": \"What were the key steps taken by AXA to reduce spending and turn around its technical results in 2006?\"\n",
            "\"question3\": \"Can you provide examples of the Group Risk Management's (GRM) analysis of the Group’s risk exposure and appetite with a more in-depth approach, as well as prepare for future new regulations (Solvency 2)?\"\n",
            "\"question4\": \"What was the reason behind AXA's commitment to take action on what counts for communities in 2007, and how did it launch the AXA Research Fund in this regard?\"\n",
            "}\n",
            "What was the name of the Swiss firm that AXA acquired in 2006?\n",
            "Here are the verification questions based on the provided context:\n",
            "{\n",
            "\"question1\": \"What was the name of the US investment bank that Henri de Castries chose to sell off when he took office?\",\n",
            "\"question2\": \"What was the objective of creating Group Risk Management within AXA?\",\n",
            "\"question3\": \"In what year did AXA return to profitable growth after the economic environment improved?\",\n",
            "\"question4\": \"What was the name of the Swiss firm that AXA acquired in 2006?\",\n",
            "\"question5\": \"What was the purpose of launching the AXA Research Fund in 2007?\"\n",
            "}\n",
            "What was the purpose of launching the AXA Research Fund?\n",
            "{\n",
            "\"question1\": \"What was the name of the US investment bank that Henri de Castries chose to sell off after he took office?\",\n",
            "\"question2\": \"What was the objective of the new risk management department created by AXA in 2006?\",\n",
            "\"question3\": \"In what year did AXA launch the AXA Research Fund?\",\n",
            "\"question4\": \"What was the name of the Swiss firm that AXA acquired in 2006?\",\n",
            "\"question5\": \"What was the main reason for AXA's resilience during the subprime financial crisis of 2007?\"\n",
            "}\n"
          ]
        }
      ]
    },
    {
      "cell_type": "code",
      "source": [
        "verification_factual_question_answer_pairs = ''\n",
        "\n",
        "for q, a in zip(verification_factual_questions_dict.values(), verification_responses):\n",
        "    verification_factual_question_answer_pairs += ('\\n' + \\\n",
        "    f\"Verification Question: {q}\" + '\\n' + \\\n",
        "    f\"Response: {a}\"\n",
        ")"
      ],
      "metadata": {
        "id": "pbcQSZdVmrmz",
        "executionInfo": {
          "status": "ok",
          "timestamp": 1721235824899,
          "user_tz": 300,
          "elapsed": 123,
          "user": {
            "displayName": "",
            "userId": ""
          }
        }
      },
      "execution_count": 92,
      "outputs": []
    },
    {
      "cell_type": "code",
      "source": [
        "print(verification_factual_question_answer_pairs)"
      ],
      "metadata": {
        "colab": {
          "base_uri": "https://localhost:8080/"
        },
        "id": "uM0YM66Gpl67",
        "executionInfo": {
          "status": "ok",
          "timestamp": 1721235838617,
          "user_tz": 300,
          "elapsed": 349,
          "user": {
            "displayName": "",
            "userId": ""
          }
        },
        "outputId": "31c41092-d4ef-43f8-a25c-798637e68019"
      },
      "execution_count": 93,
      "outputs": [
        {
          "output_type": "stream",
          "name": "stdout",
          "text": [
            "\n",
            "Verification Question: What was the name of the US investment bank that Henri de Castries chose to sell off when he took office?\n",
            "Response: {\n",
            "\"question1\": \"Can you tell me more about the economic environment that led to AXA's decision to sell off Donaldson, Lufkin & Jenrette (DLJ) in 2001?\"\n",
            "\"question2\": \"What was the main objective of creating Group Risk Management within AXA in 2006?\"\n",
            "\"question3\": \"In what year did AXA return to profitable growth after the subprime financial crisis broke out in 2007?\"\n",
            "\"question4\": \"Can you elaborate on the AXA Research Fund and its focus areas?\"\n",
            "}\n",
            "Verification Question: What was the objective of creating Group Risk Management within AXA?\n",
            "Response: {\n",
            "\"question1\": \"What was the name of the US investment bank that Henri de Castries chose to sell off when he took office?\",\n",
            "\"question2\": \"What was the objective of the new risk management department created by AXA in 2006?\",\n",
            "\"question3\": \"In which year did AXA launch the AXA Research Fund?\",\n",
            "\"question4\": \"What was the name of the Swiss firm that AXA acquired in 2006?\"\n",
            "}\n",
            "Verification Question: In which year did AXA return to profitable growth after the economic environment improved?\n",
            "Response: {\n",
            "\"question1\": \"Can you elaborate on the reasons behind Henri de Castries' decision to sell off the US investment bank Donaldson, Lufkin & Jenrette (DLJ) in 2001?\"\n",
            "\"question2\": \"What were the key steps taken by AXA to reduce spending and turn around its technical results in 2006?\"\n",
            "\"question3\": \"Can you provide examples of the Group Risk Management's (GRM) analysis of the Group’s risk exposure and appetite with a more in-depth approach, as well as prepare for future new regulations (Solvency 2)?\"\n",
            "\"question4\": \"What was the reason behind AXA's commitment to take action on what counts for communities in 2007, and how did it launch the AXA Research Fund in this regard?\"\n",
            "}\n",
            "Verification Question: What was the name of the Swiss firm that AXA acquired in 2006?\n",
            "Response: Here are the verification questions based on the provided context:\n",
            "{\n",
            "\"question1\": \"What was the name of the US investment bank that Henri de Castries chose to sell off when he took office?\",\n",
            "\"question2\": \"What was the objective of creating Group Risk Management within AXA?\",\n",
            "\"question3\": \"In what year did AXA return to profitable growth after the economic environment improved?\",\n",
            "\"question4\": \"What was the name of the Swiss firm that AXA acquired in 2006?\",\n",
            "\"question5\": \"What was the purpose of launching the AXA Research Fund in 2007?\"\n",
            "}\n",
            "Verification Question: What was the purpose of launching the AXA Research Fund?\n",
            "Response: {\n",
            "\"question1\": \"What was the name of the US investment bank that Henri de Castries chose to sell off after he took office?\",\n",
            "\"question2\": \"What was the objective of the new risk management department created by AXA in 2006?\",\n",
            "\"question3\": \"In what year did AXA launch the AXA Research Fund?\",\n",
            "\"question4\": \"What was the name of the Swiss firm that AXA acquired in 2006?\",\n",
            "\"question5\": \"What was the main reason for AXA's resilience during the subprime financial crisis of 2007?\"\n",
            "}\n"
          ]
        }
      ]
    },
    {
      "cell_type": "markdown",
      "source": [
        "### Step4 Final Model"
      ],
      "metadata": {
        "id": "GOuckgJ1p7_d"
      }
    },
    {
      "cell_type": "code",
      "source": [
        "final_prompt_template = \"\"\"\n",
        "Given the below `Context`, `Original Query` and `Baseline Answer`, analyze the `Verification Questions & Answers` to finally filter the refined answer.\n",
        "Context:\n",
        "{context}\n",
        "===\n",
        "Original Query: {original_question}\n",
        "Baseline Answer: {baseline_response}\n",
        "\n",
        "Verification Questions & Answer Pairs:\n",
        "{verification_question_answer_pairs}\n",
        "\n",
        "To reiterate, you should answer the original query accounting for the veracity of the verification question answer pairs and the context.\n",
        "Only answer the original question and do not present any additional details. Present your final answer in the following format:\n",
        "Final Refined Answer:<your-final-answer>\"\"\""
      ],
      "metadata": {
        "id": "2PqmpBz-ppL4",
        "executionInfo": {
          "status": "ok",
          "timestamp": 1721235941518,
          "user_tz": 300,
          "elapsed": 271,
          "user": {
            "displayName": "",
            "userId": ""
          }
        }
      },
      "execution_count": 94,
      "outputs": []
    },
    {
      "cell_type": "code",
      "source": [
        "final_prompt = llama_prompt_template.format(\n",
        "    system_message=system_message,\n",
        "    user_message=final_prompt_template.format(\n",
        "        context=AXA_2000_context,\n",
        "        original_question=actual_question_1,\n",
        "        baseline_response=baseline_response,\n",
        "        verification_question_answer_pairs=verification_factual_question_answer_pairs\n",
        "    )\n",
        ")"
      ],
      "metadata": {
        "id": "KbVnmpdkqCYa",
        "executionInfo": {
          "status": "ok",
          "timestamp": 1721236073984,
          "user_tz": 300,
          "elapsed": 136,
          "user": {
            "displayName": "",
            "userId": ""
          }
        }
      },
      "execution_count": 95,
      "outputs": []
    },
    {
      "cell_type": "code",
      "source": [
        "response = lccp_llm(\n",
        "    prompt=final_prompt,\n",
        "    max_tokens=1024,\n",
        "    temperature=0,\n",
        "    top_p=0.95,\n",
        "    repeat_penalty=1.2,\n",
        "    echo=False # do not return the prompt\n",
        ")"
      ],
      "metadata": {
        "colab": {
          "base_uri": "https://localhost:8080/"
        },
        "id": "zpYH_GmEqixO",
        "executionInfo": {
          "status": "ok",
          "timestamp": 1721236375536,
          "user_tz": 300,
          "elapsed": 285366,
          "user": {
            "displayName": "",
            "userId": ""
          }
        },
        "outputId": "0d263afb-bb17-4809-d0a6-beec82c8a85c"
      },
      "execution_count": 97,
      "outputs": [
        {
          "output_type": "stream",
          "name": "stderr",
          "text": [
            "Llama.generate: prefix-match hit\n",
            "\n",
            "llama_print_timings:        load time =   90407.77 ms\n",
            "llama_print_timings:      sample time =      12.48 ms /    20 runs   (    0.62 ms per token,  1602.95 tokens per second)\n",
            "llama_print_timings: prompt eval time =  275829.10 ms /  1409 tokens (  195.76 ms per token,     5.11 tokens per second)\n",
            "llama_print_timings:        eval time =    9216.89 ms /    19 runs   (  485.10 ms per token,     2.06 tokens per second)\n",
            "llama_print_timings:       total time =  285108.63 ms /  1428 tokens\n"
          ]
        }
      ]
    },
    {
      "cell_type": "code",
      "source": [
        "print(response[\"choices\"][0][\"text\"].strip())"
      ],
      "metadata": {
        "colab": {
          "base_uri": "https://localhost:8080/"
        },
        "id": "swENffqEqlA_",
        "executionInfo": {
          "status": "ok",
          "timestamp": 1721236375537,
          "user_tz": 300,
          "elapsed": 29,
          "user": {
            "displayName": "",
            "userId": ""
          }
        },
        "outputId": "eb0ef04b-1dc8-4764-efa4-d970612b8423"
      },
      "execution_count": 98,
      "outputs": [
        {
          "output_type": "stream",
          "name": "stdout",
          "text": [
            "Final Refined Answer: The year of the financial crisis is 2007.\n"
          ]
        }
      ]
    },
    {
      "cell_type": "code",
      "source": [],
      "metadata": {
        "id": "H7Y2pRCXqpd2"
      },
      "execution_count": null,
      "outputs": []
    }
  ]
}